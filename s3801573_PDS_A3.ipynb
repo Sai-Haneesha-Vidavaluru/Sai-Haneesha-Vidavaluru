{
 "cells": [
  {
   "cell_type": "code",
   "execution_count": 1,
   "metadata": {},
   "outputs": [
    {
     "data": {
      "text/html": [
       "<div>\n",
       "<style scoped>\n",
       "    .dataframe tbody tr th:only-of-type {\n",
       "        vertical-align: middle;\n",
       "    }\n",
       "\n",
       "    .dataframe tbody tr th {\n",
       "        vertical-align: top;\n",
       "    }\n",
       "\n",
       "    .dataframe thead th {\n",
       "        text-align: right;\n",
       "    }\n",
       "</style>\n",
       "<table border=\"1\" class=\"dataframe\">\n",
       "  <thead>\n",
       "    <tr style=\"text-align: right;\">\n",
       "      <th></th>\n",
       "      <th>MouseID</th>\n",
       "      <th>DYRK1A_N</th>\n",
       "      <th>ITSN1_N</th>\n",
       "      <th>BDNF_N</th>\n",
       "      <th>NR1_N</th>\n",
       "      <th>NR2A_N</th>\n",
       "      <th>pAKT_N</th>\n",
       "      <th>pBRAF_N</th>\n",
       "      <th>pCAMKII_N</th>\n",
       "      <th>pCREB_N</th>\n",
       "      <th>...</th>\n",
       "      <th>pCFOS_N</th>\n",
       "      <th>SYP_N</th>\n",
       "      <th>H3AcK18_N</th>\n",
       "      <th>EGR1_N</th>\n",
       "      <th>H3MeK4_N</th>\n",
       "      <th>CaNA_N</th>\n",
       "      <th>Genotype</th>\n",
       "      <th>Treatment</th>\n",
       "      <th>Behavior</th>\n",
       "      <th>class</th>\n",
       "    </tr>\n",
       "  </thead>\n",
       "  <tbody>\n",
       "    <tr>\n",
       "      <th>0</th>\n",
       "      <td>309_1</td>\n",
       "      <td>0.503644</td>\n",
       "      <td>0.747193</td>\n",
       "      <td>0.430175</td>\n",
       "      <td>2.816329</td>\n",
       "      <td>5.990152</td>\n",
       "      <td>0.218830</td>\n",
       "      <td>0.177565</td>\n",
       "      <td>2.373744</td>\n",
       "      <td>0.232224</td>\n",
       "      <td>...</td>\n",
       "      <td>0.108336</td>\n",
       "      <td>0.427099</td>\n",
       "      <td>0.114783</td>\n",
       "      <td>0.131790</td>\n",
       "      <td>0.128186</td>\n",
       "      <td>1.675652</td>\n",
       "      <td>Control</td>\n",
       "      <td>Memantine</td>\n",
       "      <td>C/S</td>\n",
       "      <td>c-CS-m</td>\n",
       "    </tr>\n",
       "    <tr>\n",
       "      <th>1</th>\n",
       "      <td>309_2</td>\n",
       "      <td>0.514617</td>\n",
       "      <td>0.689064</td>\n",
       "      <td>0.411770</td>\n",
       "      <td>2.789514</td>\n",
       "      <td>5.685038</td>\n",
       "      <td>0.211636</td>\n",
       "      <td>0.172817</td>\n",
       "      <td>2.292150</td>\n",
       "      <td>0.226972</td>\n",
       "      <td>...</td>\n",
       "      <td>0.104315</td>\n",
       "      <td>0.441581</td>\n",
       "      <td>0.111974</td>\n",
       "      <td>0.135103</td>\n",
       "      <td>0.131119</td>\n",
       "      <td>1.743610</td>\n",
       "      <td>Control</td>\n",
       "      <td>Memantine</td>\n",
       "      <td>C/S</td>\n",
       "      <td>c-CS-m</td>\n",
       "    </tr>\n",
       "    <tr>\n",
       "      <th>2</th>\n",
       "      <td>309_3</td>\n",
       "      <td>0.509183</td>\n",
       "      <td>0.730247</td>\n",
       "      <td>0.418309</td>\n",
       "      <td>2.687201</td>\n",
       "      <td>5.622059</td>\n",
       "      <td>0.209011</td>\n",
       "      <td>0.175722</td>\n",
       "      <td>2.283337</td>\n",
       "      <td>0.230247</td>\n",
       "      <td>...</td>\n",
       "      <td>0.106219</td>\n",
       "      <td>0.435777</td>\n",
       "      <td>0.111883</td>\n",
       "      <td>0.133362</td>\n",
       "      <td>0.127431</td>\n",
       "      <td>1.926427</td>\n",
       "      <td>Control</td>\n",
       "      <td>Memantine</td>\n",
       "      <td>C/S</td>\n",
       "      <td>c-CS-m</td>\n",
       "    </tr>\n",
       "    <tr>\n",
       "      <th>3</th>\n",
       "      <td>309_4</td>\n",
       "      <td>0.442107</td>\n",
       "      <td>0.617076</td>\n",
       "      <td>0.358626</td>\n",
       "      <td>2.466947</td>\n",
       "      <td>4.979503</td>\n",
       "      <td>0.222886</td>\n",
       "      <td>0.176463</td>\n",
       "      <td>2.152301</td>\n",
       "      <td>0.207004</td>\n",
       "      <td>...</td>\n",
       "      <td>0.111262</td>\n",
       "      <td>0.391691</td>\n",
       "      <td>0.130405</td>\n",
       "      <td>0.147444</td>\n",
       "      <td>0.146901</td>\n",
       "      <td>1.700563</td>\n",
       "      <td>Control</td>\n",
       "      <td>Memantine</td>\n",
       "      <td>C/S</td>\n",
       "      <td>c-CS-m</td>\n",
       "    </tr>\n",
       "    <tr>\n",
       "      <th>4</th>\n",
       "      <td>309_5</td>\n",
       "      <td>0.434940</td>\n",
       "      <td>0.617430</td>\n",
       "      <td>0.358802</td>\n",
       "      <td>2.365785</td>\n",
       "      <td>4.718679</td>\n",
       "      <td>0.213106</td>\n",
       "      <td>0.173627</td>\n",
       "      <td>2.134014</td>\n",
       "      <td>0.192158</td>\n",
       "      <td>...</td>\n",
       "      <td>0.110694</td>\n",
       "      <td>0.434154</td>\n",
       "      <td>0.118481</td>\n",
       "      <td>0.140314</td>\n",
       "      <td>0.148380</td>\n",
       "      <td>1.839730</td>\n",
       "      <td>Control</td>\n",
       "      <td>Memantine</td>\n",
       "      <td>C/S</td>\n",
       "      <td>c-CS-m</td>\n",
       "    </tr>\n",
       "  </tbody>\n",
       "</table>\n",
       "<p>5 rows × 82 columns</p>\n",
       "</div>"
      ],
      "text/plain": [
       "  MouseID  DYRK1A_N   ITSN1_N    BDNF_N     NR1_N    NR2A_N    pAKT_N  \\\n",
       "0   309_1  0.503644  0.747193  0.430175  2.816329  5.990152  0.218830   \n",
       "1   309_2  0.514617  0.689064  0.411770  2.789514  5.685038  0.211636   \n",
       "2   309_3  0.509183  0.730247  0.418309  2.687201  5.622059  0.209011   \n",
       "3   309_4  0.442107  0.617076  0.358626  2.466947  4.979503  0.222886   \n",
       "4   309_5  0.434940  0.617430  0.358802  2.365785  4.718679  0.213106   \n",
       "\n",
       "    pBRAF_N  pCAMKII_N   pCREB_N  ...   pCFOS_N     SYP_N  H3AcK18_N  \\\n",
       "0  0.177565   2.373744  0.232224  ...  0.108336  0.427099   0.114783   \n",
       "1  0.172817   2.292150  0.226972  ...  0.104315  0.441581   0.111974   \n",
       "2  0.175722   2.283337  0.230247  ...  0.106219  0.435777   0.111883   \n",
       "3  0.176463   2.152301  0.207004  ...  0.111262  0.391691   0.130405   \n",
       "4  0.173627   2.134014  0.192158  ...  0.110694  0.434154   0.118481   \n",
       "\n",
       "     EGR1_N  H3MeK4_N    CaNA_N  Genotype  Treatment  Behavior   class  \n",
       "0  0.131790  0.128186  1.675652   Control  Memantine       C/S  c-CS-m  \n",
       "1  0.135103  0.131119  1.743610   Control  Memantine       C/S  c-CS-m  \n",
       "2  0.133362  0.127431  1.926427   Control  Memantine       C/S  c-CS-m  \n",
       "3  0.147444  0.146901  1.700563   Control  Memantine       C/S  c-CS-m  \n",
       "4  0.140314  0.148380  1.839730   Control  Memantine       C/S  c-CS-m  \n",
       "\n",
       "[5 rows x 82 columns]"
      ]
     },
     "execution_count": 1,
     "metadata": {},
     "output_type": "execute_result"
    }
   ],
   "source": [
    "# libraries That need to be imported\n",
    "import pandas as pd\n",
    "import numpy as np\n",
    "import matplotlib.pyplot as plt\n",
    "from statistics import mean\n",
    "\n",
    "# reading the file\n",
    "kk = pd.read_csv(\"Data_Cortex_Nuclear.csv\")\n",
    "\n",
    "#  Head function will print the first 5 rows of the data frame\n",
    "kk.head()"
   ]
  },
  {
   "cell_type": "code",
   "execution_count": 2,
   "metadata": {},
   "outputs": [
    {
     "data": {
      "text/plain": [
       "(1080, 82)"
      ]
     },
     "execution_count": 2,
     "metadata": {},
     "output_type": "execute_result"
    }
   ],
   "source": [
    "# To check dimension of the data frame\n",
    "kk.shape"
   ]
  },
  {
   "cell_type": "code",
   "execution_count": 3,
   "metadata": {},
   "outputs": [
    {
     "data": {
      "text/plain": [
       "MouseID      object\n",
       "DYRK1A_N    float64\n",
       "ITSN1_N     float64\n",
       "BDNF_N      float64\n",
       "NR1_N       float64\n",
       "dtype: object"
      ]
     },
     "execution_count": 3,
     "metadata": {},
     "output_type": "execute_result"
    }
   ],
   "source": [
    "# checking data types of variables\n",
    "kk.dtypes.head()"
   ]
  },
  {
   "cell_type": "code",
   "execution_count": 4,
   "metadata": {},
   "outputs": [
    {
     "data": {
      "text/plain": [
       "Index(['MouseID', 'DYRK1A_N', 'ITSN1_N', 'BDNF_N', 'NR1_N', 'NR2A_N', 'pAKT_N',\n",
       "       'pBRAF_N', 'pCAMKII_N', 'pCREB_N', 'pELK_N', 'pERK_N', 'pJNK_N',\n",
       "       'PKCA_N', 'pMEK_N', 'pNR1_N', 'pNR2A_N', 'pNR2B_N', 'pPKCAB_N',\n",
       "       'pRSK_N', 'AKT_N', 'BRAF_N', 'CAMKII_N', 'CREB_N', 'ELK_N', 'ERK_N',\n",
       "       'GSK3B_N', 'JNK_N', 'MEK_N', 'TRKA_N', 'RSK_N', 'APP_N', 'Bcatenin_N',\n",
       "       'SOD1_N', 'MTOR_N', 'P38_N', 'pMTOR_N', 'DSCR1_N', 'AMPKA_N', 'NR2B_N',\n",
       "       'pNUMB_N', 'RAPTOR_N', 'TIAM1_N', 'pP70S6_N', 'NUMB_N', 'P70S6_N',\n",
       "       'pGSK3B_N', 'pPKCG_N', 'CDK5_N', 'S6_N', 'ADARB1_N', 'AcetylH3K9_N',\n",
       "       'RRP1_N', 'BAX_N', 'ARC_N', 'ERBB4_N', 'nNOS_N', 'Tau_N', 'GFAP_N',\n",
       "       'GluR3_N', 'GluR4_N', 'IL1B_N', 'P3525_N', 'pCASP9_N', 'PSD95_N',\n",
       "       'SNCA_N', 'Ubiquitin_N', 'pGSK3B_Tyr216_N', 'SHH_N', 'BAD_N', 'BCL2_N',\n",
       "       'pS6_N', 'pCFOS_N', 'SYP_N', 'H3AcK18_N', 'EGR1_N', 'H3MeK4_N',\n",
       "       'CaNA_N', 'Genotype', 'Treatment', 'Behavior', 'class'],\n",
       "      dtype='object')"
      ]
     },
     "execution_count": 4,
     "metadata": {},
     "output_type": "execute_result"
    }
   ],
   "source": [
    "kk.columns"
   ]
  },
  {
   "cell_type": "code",
   "execution_count": 5,
   "metadata": {},
   "outputs": [
    {
     "data": {
      "text/plain": [
       "(1080, 81)"
      ]
     },
     "execution_count": 5,
     "metadata": {},
     "output_type": "execute_result"
    }
   ],
   "source": [
    "# drop the 'MouseID' column and axis = 1 representing the rows\n",
    "kk.drop('MouseID', axis = 1 , inplace = True )\n",
    "kk.shape"
   ]
  },
  {
   "cell_type": "code",
   "execution_count": 6,
   "metadata": {},
   "outputs": [],
   "source": [
    "kk.replace('',np.NaN,inplace=True)"
   ]
  },
  {
   "cell_type": "code",
   "execution_count": 7,
   "metadata": {},
   "outputs": [
    {
     "data": {
      "text/html": [
       "<div>\n",
       "<style scoped>\n",
       "    .dataframe tbody tr th:only-of-type {\n",
       "        vertical-align: middle;\n",
       "    }\n",
       "\n",
       "    .dataframe tbody tr th {\n",
       "        vertical-align: top;\n",
       "    }\n",
       "\n",
       "    .dataframe thead th {\n",
       "        text-align: right;\n",
       "    }\n",
       "</style>\n",
       "<table border=\"1\" class=\"dataframe\">\n",
       "  <thead>\n",
       "    <tr style=\"text-align: right;\">\n",
       "      <th></th>\n",
       "      <th>DYRK1A_N</th>\n",
       "      <th>ITSN1_N</th>\n",
       "      <th>BDNF_N</th>\n",
       "      <th>NR1_N</th>\n",
       "      <th>NR2A_N</th>\n",
       "      <th>pAKT_N</th>\n",
       "      <th>pBRAF_N</th>\n",
       "      <th>pCAMKII_N</th>\n",
       "      <th>pCREB_N</th>\n",
       "      <th>pELK_N</th>\n",
       "      <th>...</th>\n",
       "      <th>SHH_N</th>\n",
       "      <th>BAD_N</th>\n",
       "      <th>BCL2_N</th>\n",
       "      <th>pS6_N</th>\n",
       "      <th>pCFOS_N</th>\n",
       "      <th>SYP_N</th>\n",
       "      <th>H3AcK18_N</th>\n",
       "      <th>EGR1_N</th>\n",
       "      <th>H3MeK4_N</th>\n",
       "      <th>CaNA_N</th>\n",
       "    </tr>\n",
       "  </thead>\n",
       "  <tbody>\n",
       "    <tr>\n",
       "      <th>count</th>\n",
       "      <td>1077.000000</td>\n",
       "      <td>1077.000000</td>\n",
       "      <td>1077.000000</td>\n",
       "      <td>1077.000000</td>\n",
       "      <td>1077.000000</td>\n",
       "      <td>1077.000000</td>\n",
       "      <td>1077.000000</td>\n",
       "      <td>1077.000000</td>\n",
       "      <td>1077.000000</td>\n",
       "      <td>1077.000000</td>\n",
       "      <td>...</td>\n",
       "      <td>1080.000000</td>\n",
       "      <td>867.000000</td>\n",
       "      <td>795.000000</td>\n",
       "      <td>1080.000000</td>\n",
       "      <td>1005.000000</td>\n",
       "      <td>1080.000000</td>\n",
       "      <td>900.000000</td>\n",
       "      <td>870.000000</td>\n",
       "      <td>810.000000</td>\n",
       "      <td>1080.000000</td>\n",
       "    </tr>\n",
       "    <tr>\n",
       "      <th>mean</th>\n",
       "      <td>0.425810</td>\n",
       "      <td>0.617102</td>\n",
       "      <td>0.319088</td>\n",
       "      <td>2.297269</td>\n",
       "      <td>3.843934</td>\n",
       "      <td>0.233168</td>\n",
       "      <td>0.181846</td>\n",
       "      <td>3.537109</td>\n",
       "      <td>0.212574</td>\n",
       "      <td>1.428682</td>\n",
       "      <td>...</td>\n",
       "      <td>0.226676</td>\n",
       "      <td>0.157914</td>\n",
       "      <td>0.134762</td>\n",
       "      <td>0.121521</td>\n",
       "      <td>0.131053</td>\n",
       "      <td>0.446073</td>\n",
       "      <td>0.169609</td>\n",
       "      <td>0.183135</td>\n",
       "      <td>0.205440</td>\n",
       "      <td>1.337784</td>\n",
       "    </tr>\n",
       "    <tr>\n",
       "      <th>std</th>\n",
       "      <td>0.249362</td>\n",
       "      <td>0.251640</td>\n",
       "      <td>0.049383</td>\n",
       "      <td>0.347293</td>\n",
       "      <td>0.933100</td>\n",
       "      <td>0.041634</td>\n",
       "      <td>0.027042</td>\n",
       "      <td>1.295169</td>\n",
       "      <td>0.032587</td>\n",
       "      <td>0.466904</td>\n",
       "      <td>...</td>\n",
       "      <td>0.028989</td>\n",
       "      <td>0.029537</td>\n",
       "      <td>0.027417</td>\n",
       "      <td>0.014276</td>\n",
       "      <td>0.023863</td>\n",
       "      <td>0.066432</td>\n",
       "      <td>0.059402</td>\n",
       "      <td>0.040406</td>\n",
       "      <td>0.055514</td>\n",
       "      <td>0.317126</td>\n",
       "    </tr>\n",
       "    <tr>\n",
       "      <th>min</th>\n",
       "      <td>0.145327</td>\n",
       "      <td>0.245359</td>\n",
       "      <td>0.115181</td>\n",
       "      <td>1.330831</td>\n",
       "      <td>1.737540</td>\n",
       "      <td>0.063236</td>\n",
       "      <td>0.064043</td>\n",
       "      <td>1.343998</td>\n",
       "      <td>0.112812</td>\n",
       "      <td>0.429032</td>\n",
       "      <td>...</td>\n",
       "      <td>0.155869</td>\n",
       "      <td>0.088305</td>\n",
       "      <td>0.080657</td>\n",
       "      <td>0.067254</td>\n",
       "      <td>0.085419</td>\n",
       "      <td>0.258626</td>\n",
       "      <td>0.079691</td>\n",
       "      <td>0.105537</td>\n",
       "      <td>0.101787</td>\n",
       "      <td>0.586479</td>\n",
       "    </tr>\n",
       "    <tr>\n",
       "      <th>25%</th>\n",
       "      <td>0.288121</td>\n",
       "      <td>0.473361</td>\n",
       "      <td>0.287444</td>\n",
       "      <td>2.057411</td>\n",
       "      <td>3.155678</td>\n",
       "      <td>0.205755</td>\n",
       "      <td>0.164595</td>\n",
       "      <td>2.479834</td>\n",
       "      <td>0.190823</td>\n",
       "      <td>1.203665</td>\n",
       "      <td>...</td>\n",
       "      <td>0.206395</td>\n",
       "      <td>0.136424</td>\n",
       "      <td>0.115554</td>\n",
       "      <td>0.110839</td>\n",
       "      <td>0.113506</td>\n",
       "      <td>0.398082</td>\n",
       "      <td>0.125848</td>\n",
       "      <td>0.155121</td>\n",
       "      <td>0.165143</td>\n",
       "      <td>1.081423</td>\n",
       "    </tr>\n",
       "    <tr>\n",
       "      <th>50%</th>\n",
       "      <td>0.366378</td>\n",
       "      <td>0.565782</td>\n",
       "      <td>0.316564</td>\n",
       "      <td>2.296546</td>\n",
       "      <td>3.760855</td>\n",
       "      <td>0.231177</td>\n",
       "      <td>0.182302</td>\n",
       "      <td>3.326520</td>\n",
       "      <td>0.210594</td>\n",
       "      <td>1.355846</td>\n",
       "      <td>...</td>\n",
       "      <td>0.224000</td>\n",
       "      <td>0.152313</td>\n",
       "      <td>0.129468</td>\n",
       "      <td>0.121626</td>\n",
       "      <td>0.126523</td>\n",
       "      <td>0.448459</td>\n",
       "      <td>0.158240</td>\n",
       "      <td>0.174935</td>\n",
       "      <td>0.193994</td>\n",
       "      <td>1.317441</td>\n",
       "    </tr>\n",
       "    <tr>\n",
       "      <th>75%</th>\n",
       "      <td>0.487711</td>\n",
       "      <td>0.698032</td>\n",
       "      <td>0.348197</td>\n",
       "      <td>2.528481</td>\n",
       "      <td>4.440011</td>\n",
       "      <td>0.257261</td>\n",
       "      <td>0.197418</td>\n",
       "      <td>4.481940</td>\n",
       "      <td>0.234595</td>\n",
       "      <td>1.561316</td>\n",
       "      <td>...</td>\n",
       "      <td>0.241655</td>\n",
       "      <td>0.174017</td>\n",
       "      <td>0.148235</td>\n",
       "      <td>0.131955</td>\n",
       "      <td>0.143652</td>\n",
       "      <td>0.490773</td>\n",
       "      <td>0.197876</td>\n",
       "      <td>0.204542</td>\n",
       "      <td>0.235215</td>\n",
       "      <td>1.585824</td>\n",
       "    </tr>\n",
       "    <tr>\n",
       "      <th>max</th>\n",
       "      <td>2.516367</td>\n",
       "      <td>2.602662</td>\n",
       "      <td>0.497160</td>\n",
       "      <td>3.757641</td>\n",
       "      <td>8.482553</td>\n",
       "      <td>0.539050</td>\n",
       "      <td>0.317066</td>\n",
       "      <td>7.464070</td>\n",
       "      <td>0.306247</td>\n",
       "      <td>6.113347</td>\n",
       "      <td>...</td>\n",
       "      <td>0.358289</td>\n",
       "      <td>0.282016</td>\n",
       "      <td>0.261506</td>\n",
       "      <td>0.158748</td>\n",
       "      <td>0.256529</td>\n",
       "      <td>0.759588</td>\n",
       "      <td>0.479763</td>\n",
       "      <td>0.360692</td>\n",
       "      <td>0.413903</td>\n",
       "      <td>2.129791</td>\n",
       "    </tr>\n",
       "  </tbody>\n",
       "</table>\n",
       "<p>8 rows × 77 columns</p>\n",
       "</div>"
      ],
      "text/plain": [
       "          DYRK1A_N      ITSN1_N       BDNF_N        NR1_N       NR2A_N  \\\n",
       "count  1077.000000  1077.000000  1077.000000  1077.000000  1077.000000   \n",
       "mean      0.425810     0.617102     0.319088     2.297269     3.843934   \n",
       "std       0.249362     0.251640     0.049383     0.347293     0.933100   \n",
       "min       0.145327     0.245359     0.115181     1.330831     1.737540   \n",
       "25%       0.288121     0.473361     0.287444     2.057411     3.155678   \n",
       "50%       0.366378     0.565782     0.316564     2.296546     3.760855   \n",
       "75%       0.487711     0.698032     0.348197     2.528481     4.440011   \n",
       "max       2.516367     2.602662     0.497160     3.757641     8.482553   \n",
       "\n",
       "            pAKT_N      pBRAF_N    pCAMKII_N      pCREB_N       pELK_N  ...  \\\n",
       "count  1077.000000  1077.000000  1077.000000  1077.000000  1077.000000  ...   \n",
       "mean      0.233168     0.181846     3.537109     0.212574     1.428682  ...   \n",
       "std       0.041634     0.027042     1.295169     0.032587     0.466904  ...   \n",
       "min       0.063236     0.064043     1.343998     0.112812     0.429032  ...   \n",
       "25%       0.205755     0.164595     2.479834     0.190823     1.203665  ...   \n",
       "50%       0.231177     0.182302     3.326520     0.210594     1.355846  ...   \n",
       "75%       0.257261     0.197418     4.481940     0.234595     1.561316  ...   \n",
       "max       0.539050     0.317066     7.464070     0.306247     6.113347  ...   \n",
       "\n",
       "             SHH_N       BAD_N      BCL2_N        pS6_N      pCFOS_N  \\\n",
       "count  1080.000000  867.000000  795.000000  1080.000000  1005.000000   \n",
       "mean      0.226676    0.157914    0.134762     0.121521     0.131053   \n",
       "std       0.028989    0.029537    0.027417     0.014276     0.023863   \n",
       "min       0.155869    0.088305    0.080657     0.067254     0.085419   \n",
       "25%       0.206395    0.136424    0.115554     0.110839     0.113506   \n",
       "50%       0.224000    0.152313    0.129468     0.121626     0.126523   \n",
       "75%       0.241655    0.174017    0.148235     0.131955     0.143652   \n",
       "max       0.358289    0.282016    0.261506     0.158748     0.256529   \n",
       "\n",
       "             SYP_N   H3AcK18_N      EGR1_N    H3MeK4_N       CaNA_N  \n",
       "count  1080.000000  900.000000  870.000000  810.000000  1080.000000  \n",
       "mean      0.446073    0.169609    0.183135    0.205440     1.337784  \n",
       "std       0.066432    0.059402    0.040406    0.055514     0.317126  \n",
       "min       0.258626    0.079691    0.105537    0.101787     0.586479  \n",
       "25%       0.398082    0.125848    0.155121    0.165143     1.081423  \n",
       "50%       0.448459    0.158240    0.174935    0.193994     1.317441  \n",
       "75%       0.490773    0.197876    0.204542    0.235215     1.585824  \n",
       "max       0.759588    0.479763    0.360692    0.413903     2.129791  \n",
       "\n",
       "[8 rows x 77 columns]"
      ]
     },
     "execution_count": 7,
     "metadata": {},
     "output_type": "execute_result"
    }
   ],
   "source": [
    "kk.describe()"
   ]
  },
  {
   "cell_type": "code",
   "execution_count": 8,
   "metadata": {},
   "outputs": [
    {
     "data": {
      "text/plain": [
       "DYRK1A_N    3\n",
       "ITSN1_N     3\n",
       "BDNF_N      3\n",
       "NR1_N       3\n",
       "NR2A_N      3\n",
       "dtype: int64"
      ]
     },
     "execution_count": 8,
     "metadata": {},
     "output_type": "execute_result"
    }
   ],
   "source": [
    "kk.isna().sum().head()"
   ]
  },
  {
   "cell_type": "code",
   "execution_count": 9,
   "metadata": {},
   "outputs": [],
   "source": [
    "kk.fillna(kk.mean(), inplace=True)"
   ]
  },
  {
   "cell_type": "code",
   "execution_count": 10,
   "metadata": {},
   "outputs": [
    {
     "data": {
      "text/plain": [
       "DYRK1A_N    0\n",
       "ITSN1_N     0\n",
       "BDNF_N      0\n",
       "NR1_N       0\n",
       "NR2A_N      0\n",
       "dtype: int64"
      ]
     },
     "execution_count": 10,
     "metadata": {},
     "output_type": "execute_result"
    }
   ],
   "source": [
    "# Checking for NaN\n",
    "kk.isna().sum().head()"
   ]
  },
  {
   "cell_type": "code",
   "execution_count": 11,
   "metadata": {},
   "outputs": [
    {
     "name": "stdout",
     "output_type": "stream",
     "text": [
      "Control    570\n",
      "Ts65Dn     510\n",
      "Name: Genotype, dtype: int64\n",
      "***************\n",
      "Memantine    570\n",
      "Saline       510\n",
      "Name: Treatment, dtype: int64\n",
      "***************\n",
      "S/C    555\n",
      "C/S    525\n",
      "Name: Behavior, dtype: int64\n",
      "***************\n",
      "c-CS-m    150\n",
      "c-SC-m    150\n",
      "c-SC-s    135\n",
      "t-CS-m    135\n",
      "c-CS-s    135\n",
      "t-SC-s    135\n",
      "t-SC-m    135\n",
      "t-CS-s    105\n",
      "Name: class, dtype: int64\n"
     ]
    }
   ],
   "source": [
    "# TO verify unique values \n",
    "print(kk[\"Genotype\"].value_counts(dropna = False))\n",
    "print(\"***************\")\n",
    "print(kk[\"Treatment\"].value_counts(dropna = False))\n",
    "print(\"***************\")\n",
    "print(kk[\"Behavior\"].value_counts(dropna = False))\n",
    "print(\"***************\")\n",
    "print(kk[\"class\"].value_counts(dropna = False))"
   ]
  },
  {
   "cell_type": "code",
   "execution_count": 12,
   "metadata": {},
   "outputs": [
    {
     "data": {
      "text/html": [
       "<div>\n",
       "<style scoped>\n",
       "    .dataframe tbody tr th:only-of-type {\n",
       "        vertical-align: middle;\n",
       "    }\n",
       "\n",
       "    .dataframe tbody tr th {\n",
       "        vertical-align: top;\n",
       "    }\n",
       "\n",
       "    .dataframe thead th {\n",
       "        text-align: right;\n",
       "    }\n",
       "</style>\n",
       "<table border=\"1\" class=\"dataframe\">\n",
       "  <thead>\n",
       "    <tr style=\"text-align: right;\">\n",
       "      <th></th>\n",
       "      <th>DYRK1A_N</th>\n",
       "      <th>ITSN1_N</th>\n",
       "      <th>BDNF_N</th>\n",
       "      <th>NR1_N</th>\n",
       "      <th>NR2A_N</th>\n",
       "      <th>pAKT_N</th>\n",
       "      <th>pBRAF_N</th>\n",
       "      <th>pCAMKII_N</th>\n",
       "      <th>pCREB_N</th>\n",
       "      <th>pELK_N</th>\n",
       "      <th>...</th>\n",
       "      <th>SHH_N</th>\n",
       "      <th>BAD_N</th>\n",
       "      <th>BCL2_N</th>\n",
       "      <th>pS6_N</th>\n",
       "      <th>pCFOS_N</th>\n",
       "      <th>SYP_N</th>\n",
       "      <th>H3AcK18_N</th>\n",
       "      <th>EGR1_N</th>\n",
       "      <th>H3MeK4_N</th>\n",
       "      <th>CaNA_N</th>\n",
       "    </tr>\n",
       "  </thead>\n",
       "  <tbody>\n",
       "    <tr>\n",
       "      <th>count</th>\n",
       "      <td>1080.000000</td>\n",
       "      <td>1080.000000</td>\n",
       "      <td>1080.000000</td>\n",
       "      <td>1080.000000</td>\n",
       "      <td>1080.000000</td>\n",
       "      <td>1080.000000</td>\n",
       "      <td>1080.000000</td>\n",
       "      <td>1080.000000</td>\n",
       "      <td>1080.000000</td>\n",
       "      <td>1080.000000</td>\n",
       "      <td>...</td>\n",
       "      <td>1080.000000</td>\n",
       "      <td>1080.000000</td>\n",
       "      <td>1080.000000</td>\n",
       "      <td>1080.000000</td>\n",
       "      <td>1080.000000</td>\n",
       "      <td>1080.000000</td>\n",
       "      <td>1080.000000</td>\n",
       "      <td>1080.000000</td>\n",
       "      <td>1080.000000</td>\n",
       "      <td>1080.000000</td>\n",
       "    </tr>\n",
       "    <tr>\n",
       "      <th>mean</th>\n",
       "      <td>0.425810</td>\n",
       "      <td>0.617102</td>\n",
       "      <td>0.319088</td>\n",
       "      <td>2.297269</td>\n",
       "      <td>3.843934</td>\n",
       "      <td>0.233168</td>\n",
       "      <td>0.181846</td>\n",
       "      <td>3.537109</td>\n",
       "      <td>0.212574</td>\n",
       "      <td>1.428682</td>\n",
       "      <td>...</td>\n",
       "      <td>0.226676</td>\n",
       "      <td>0.157914</td>\n",
       "      <td>0.134762</td>\n",
       "      <td>0.121521</td>\n",
       "      <td>0.131053</td>\n",
       "      <td>0.446073</td>\n",
       "      <td>0.169609</td>\n",
       "      <td>0.183135</td>\n",
       "      <td>0.205440</td>\n",
       "      <td>1.337784</td>\n",
       "    </tr>\n",
       "    <tr>\n",
       "      <th>std</th>\n",
       "      <td>0.249015</td>\n",
       "      <td>0.251290</td>\n",
       "      <td>0.049314</td>\n",
       "      <td>0.346810</td>\n",
       "      <td>0.931802</td>\n",
       "      <td>0.041577</td>\n",
       "      <td>0.027004</td>\n",
       "      <td>1.293368</td>\n",
       "      <td>0.032542</td>\n",
       "      <td>0.466254</td>\n",
       "      <td>...</td>\n",
       "      <td>0.028989</td>\n",
       "      <td>0.026461</td>\n",
       "      <td>0.023519</td>\n",
       "      <td>0.014276</td>\n",
       "      <td>0.023018</td>\n",
       "      <td>0.066432</td>\n",
       "      <td>0.054222</td>\n",
       "      <td>0.036261</td>\n",
       "      <td>0.048069</td>\n",
       "      <td>0.317126</td>\n",
       "    </tr>\n",
       "    <tr>\n",
       "      <th>min</th>\n",
       "      <td>0.145327</td>\n",
       "      <td>0.245359</td>\n",
       "      <td>0.115181</td>\n",
       "      <td>1.330831</td>\n",
       "      <td>1.737540</td>\n",
       "      <td>0.063236</td>\n",
       "      <td>0.064043</td>\n",
       "      <td>1.343998</td>\n",
       "      <td>0.112812</td>\n",
       "      <td>0.429032</td>\n",
       "      <td>...</td>\n",
       "      <td>0.155869</td>\n",
       "      <td>0.088305</td>\n",
       "      <td>0.080657</td>\n",
       "      <td>0.067254</td>\n",
       "      <td>0.085419</td>\n",
       "      <td>0.258626</td>\n",
       "      <td>0.079691</td>\n",
       "      <td>0.105537</td>\n",
       "      <td>0.101787</td>\n",
       "      <td>0.586479</td>\n",
       "    </tr>\n",
       "    <tr>\n",
       "      <th>25%</th>\n",
       "      <td>0.288163</td>\n",
       "      <td>0.473669</td>\n",
       "      <td>0.287650</td>\n",
       "      <td>2.059152</td>\n",
       "      <td>3.160287</td>\n",
       "      <td>0.205821</td>\n",
       "      <td>0.164619</td>\n",
       "      <td>2.479861</td>\n",
       "      <td>0.190828</td>\n",
       "      <td>1.206389</td>\n",
       "      <td>...</td>\n",
       "      <td>0.206395</td>\n",
       "      <td>0.141045</td>\n",
       "      <td>0.119986</td>\n",
       "      <td>0.110839</td>\n",
       "      <td>0.114373</td>\n",
       "      <td>0.398082</td>\n",
       "      <td>0.133969</td>\n",
       "      <td>0.159168</td>\n",
       "      <td>0.174271</td>\n",
       "      <td>1.081423</td>\n",
       "    </tr>\n",
       "    <tr>\n",
       "      <th>50%</th>\n",
       "      <td>0.366540</td>\n",
       "      <td>0.566365</td>\n",
       "      <td>0.316703</td>\n",
       "      <td>2.297269</td>\n",
       "      <td>3.763306</td>\n",
       "      <td>0.231246</td>\n",
       "      <td>0.182270</td>\n",
       "      <td>3.329624</td>\n",
       "      <td>0.210681</td>\n",
       "      <td>1.356368</td>\n",
       "      <td>...</td>\n",
       "      <td>0.224000</td>\n",
       "      <td>0.157914</td>\n",
       "      <td>0.134762</td>\n",
       "      <td>0.121626</td>\n",
       "      <td>0.128466</td>\n",
       "      <td>0.448459</td>\n",
       "      <td>0.169609</td>\n",
       "      <td>0.183135</td>\n",
       "      <td>0.205440</td>\n",
       "      <td>1.317441</td>\n",
       "    </tr>\n",
       "    <tr>\n",
       "      <th>75%</th>\n",
       "      <td>0.487574</td>\n",
       "      <td>0.697500</td>\n",
       "      <td>0.348039</td>\n",
       "      <td>2.528035</td>\n",
       "      <td>4.425107</td>\n",
       "      <td>0.257225</td>\n",
       "      <td>0.197226</td>\n",
       "      <td>4.480652</td>\n",
       "      <td>0.234558</td>\n",
       "      <td>1.560931</td>\n",
       "      <td>...</td>\n",
       "      <td>0.241655</td>\n",
       "      <td>0.167584</td>\n",
       "      <td>0.139331</td>\n",
       "      <td>0.131955</td>\n",
       "      <td>0.142427</td>\n",
       "      <td>0.490773</td>\n",
       "      <td>0.187174</td>\n",
       "      <td>0.196133</td>\n",
       "      <td>0.219242</td>\n",
       "      <td>1.585824</td>\n",
       "    </tr>\n",
       "    <tr>\n",
       "      <th>max</th>\n",
       "      <td>2.516367</td>\n",
       "      <td>2.602662</td>\n",
       "      <td>0.497160</td>\n",
       "      <td>3.757641</td>\n",
       "      <td>8.482553</td>\n",
       "      <td>0.539050</td>\n",
       "      <td>0.317066</td>\n",
       "      <td>7.464070</td>\n",
       "      <td>0.306247</td>\n",
       "      <td>6.113347</td>\n",
       "      <td>...</td>\n",
       "      <td>0.358289</td>\n",
       "      <td>0.282016</td>\n",
       "      <td>0.261506</td>\n",
       "      <td>0.158748</td>\n",
       "      <td>0.256529</td>\n",
       "      <td>0.759588</td>\n",
       "      <td>0.479763</td>\n",
       "      <td>0.360692</td>\n",
       "      <td>0.413903</td>\n",
       "      <td>2.129791</td>\n",
       "    </tr>\n",
       "  </tbody>\n",
       "</table>\n",
       "<p>8 rows × 77 columns</p>\n",
       "</div>"
      ],
      "text/plain": [
       "          DYRK1A_N      ITSN1_N       BDNF_N        NR1_N       NR2A_N  \\\n",
       "count  1080.000000  1080.000000  1080.000000  1080.000000  1080.000000   \n",
       "mean      0.425810     0.617102     0.319088     2.297269     3.843934   \n",
       "std       0.249015     0.251290     0.049314     0.346810     0.931802   \n",
       "min       0.145327     0.245359     0.115181     1.330831     1.737540   \n",
       "25%       0.288163     0.473669     0.287650     2.059152     3.160287   \n",
       "50%       0.366540     0.566365     0.316703     2.297269     3.763306   \n",
       "75%       0.487574     0.697500     0.348039     2.528035     4.425107   \n",
       "max       2.516367     2.602662     0.497160     3.757641     8.482553   \n",
       "\n",
       "            pAKT_N      pBRAF_N    pCAMKII_N      pCREB_N       pELK_N  ...  \\\n",
       "count  1080.000000  1080.000000  1080.000000  1080.000000  1080.000000  ...   \n",
       "mean      0.233168     0.181846     3.537109     0.212574     1.428682  ...   \n",
       "std       0.041577     0.027004     1.293368     0.032542     0.466254  ...   \n",
       "min       0.063236     0.064043     1.343998     0.112812     0.429032  ...   \n",
       "25%       0.205821     0.164619     2.479861     0.190828     1.206389  ...   \n",
       "50%       0.231246     0.182270     3.329624     0.210681     1.356368  ...   \n",
       "75%       0.257225     0.197226     4.480652     0.234558     1.560931  ...   \n",
       "max       0.539050     0.317066     7.464070     0.306247     6.113347  ...   \n",
       "\n",
       "             SHH_N        BAD_N       BCL2_N        pS6_N      pCFOS_N  \\\n",
       "count  1080.000000  1080.000000  1080.000000  1080.000000  1080.000000   \n",
       "mean      0.226676     0.157914     0.134762     0.121521     0.131053   \n",
       "std       0.028989     0.026461     0.023519     0.014276     0.023018   \n",
       "min       0.155869     0.088305     0.080657     0.067254     0.085419   \n",
       "25%       0.206395     0.141045     0.119986     0.110839     0.114373   \n",
       "50%       0.224000     0.157914     0.134762     0.121626     0.128466   \n",
       "75%       0.241655     0.167584     0.139331     0.131955     0.142427   \n",
       "max       0.358289     0.282016     0.261506     0.158748     0.256529   \n",
       "\n",
       "             SYP_N    H3AcK18_N       EGR1_N     H3MeK4_N       CaNA_N  \n",
       "count  1080.000000  1080.000000  1080.000000  1080.000000  1080.000000  \n",
       "mean      0.446073     0.169609     0.183135     0.205440     1.337784  \n",
       "std       0.066432     0.054222     0.036261     0.048069     0.317126  \n",
       "min       0.258626     0.079691     0.105537     0.101787     0.586479  \n",
       "25%       0.398082     0.133969     0.159168     0.174271     1.081423  \n",
       "50%       0.448459     0.169609     0.183135     0.205440     1.317441  \n",
       "75%       0.490773     0.187174     0.196133     0.219242     1.585824  \n",
       "max       0.759588     0.479763     0.360692     0.413903     2.129791  \n",
       "\n",
       "[8 rows x 77 columns]"
      ]
     },
     "execution_count": 12,
     "metadata": {},
     "output_type": "execute_result"
    }
   ],
   "source": [
    "kk.describe()"
   ]
  },
  {
   "cell_type": "code",
   "execution_count": 13,
   "metadata": {},
   "outputs": [
    {
     "data": {
      "text/html": [
       "<div>\n",
       "<style scoped>\n",
       "    .dataframe tbody tr th:only-of-type {\n",
       "        vertical-align: middle;\n",
       "    }\n",
       "\n",
       "    .dataframe tbody tr th {\n",
       "        vertical-align: top;\n",
       "    }\n",
       "\n",
       "    .dataframe thead th {\n",
       "        text-align: right;\n",
       "    }\n",
       "</style>\n",
       "<table border=\"1\" class=\"dataframe\">\n",
       "  <thead>\n",
       "    <tr style=\"text-align: right;\">\n",
       "      <th></th>\n",
       "      <th>DYRK1A_N</th>\n",
       "      <th>ITSN1_N</th>\n",
       "      <th>BDNF_N</th>\n",
       "      <th>NR1_N</th>\n",
       "      <th>NR2A_N</th>\n",
       "      <th>pAKT_N</th>\n",
       "      <th>pBRAF_N</th>\n",
       "      <th>pCAMKII_N</th>\n",
       "      <th>pCREB_N</th>\n",
       "      <th>pELK_N</th>\n",
       "      <th>...</th>\n",
       "      <th>pCFOS_N</th>\n",
       "      <th>SYP_N</th>\n",
       "      <th>H3AcK18_N</th>\n",
       "      <th>EGR1_N</th>\n",
       "      <th>H3MeK4_N</th>\n",
       "      <th>CaNA_N</th>\n",
       "      <th>Genotype</th>\n",
       "      <th>Treatment</th>\n",
       "      <th>Behavior</th>\n",
       "      <th>class</th>\n",
       "    </tr>\n",
       "  </thead>\n",
       "  <tbody>\n",
       "    <tr>\n",
       "      <th>0</th>\n",
       "      <td>0.503644</td>\n",
       "      <td>0.747193</td>\n",
       "      <td>0.430175</td>\n",
       "      <td>2.816329</td>\n",
       "      <td>5.990152</td>\n",
       "      <td>0.218830</td>\n",
       "      <td>0.177565</td>\n",
       "      <td>2.373744</td>\n",
       "      <td>0.232224</td>\n",
       "      <td>1.750936</td>\n",
       "      <td>...</td>\n",
       "      <td>0.108336</td>\n",
       "      <td>0.427099</td>\n",
       "      <td>0.114783</td>\n",
       "      <td>0.131790</td>\n",
       "      <td>0.128186</td>\n",
       "      <td>1.675652</td>\n",
       "      <td>Control</td>\n",
       "      <td>Memantine</td>\n",
       "      <td>C/S</td>\n",
       "      <td>c-CS-m</td>\n",
       "    </tr>\n",
       "    <tr>\n",
       "      <th>1</th>\n",
       "      <td>0.514617</td>\n",
       "      <td>0.689064</td>\n",
       "      <td>0.411770</td>\n",
       "      <td>2.789514</td>\n",
       "      <td>5.685038</td>\n",
       "      <td>0.211636</td>\n",
       "      <td>0.172817</td>\n",
       "      <td>2.292150</td>\n",
       "      <td>0.226972</td>\n",
       "      <td>1.596377</td>\n",
       "      <td>...</td>\n",
       "      <td>0.104315</td>\n",
       "      <td>0.441581</td>\n",
       "      <td>0.111974</td>\n",
       "      <td>0.135103</td>\n",
       "      <td>0.131119</td>\n",
       "      <td>1.743610</td>\n",
       "      <td>Control</td>\n",
       "      <td>Memantine</td>\n",
       "      <td>C/S</td>\n",
       "      <td>c-CS-m</td>\n",
       "    </tr>\n",
       "    <tr>\n",
       "      <th>2</th>\n",
       "      <td>0.509183</td>\n",
       "      <td>0.730247</td>\n",
       "      <td>0.418309</td>\n",
       "      <td>2.687201</td>\n",
       "      <td>5.622059</td>\n",
       "      <td>0.209011</td>\n",
       "      <td>0.175722</td>\n",
       "      <td>2.283337</td>\n",
       "      <td>0.230247</td>\n",
       "      <td>1.561316</td>\n",
       "      <td>...</td>\n",
       "      <td>0.106219</td>\n",
       "      <td>0.435777</td>\n",
       "      <td>0.111883</td>\n",
       "      <td>0.133362</td>\n",
       "      <td>0.127431</td>\n",
       "      <td>1.926427</td>\n",
       "      <td>Control</td>\n",
       "      <td>Memantine</td>\n",
       "      <td>C/S</td>\n",
       "      <td>c-CS-m</td>\n",
       "    </tr>\n",
       "    <tr>\n",
       "      <th>3</th>\n",
       "      <td>0.442107</td>\n",
       "      <td>0.617076</td>\n",
       "      <td>0.358626</td>\n",
       "      <td>2.466947</td>\n",
       "      <td>4.979503</td>\n",
       "      <td>0.222886</td>\n",
       "      <td>0.176463</td>\n",
       "      <td>2.152301</td>\n",
       "      <td>0.207004</td>\n",
       "      <td>1.595086</td>\n",
       "      <td>...</td>\n",
       "      <td>0.111262</td>\n",
       "      <td>0.391691</td>\n",
       "      <td>0.130405</td>\n",
       "      <td>0.147444</td>\n",
       "      <td>0.146901</td>\n",
       "      <td>1.700563</td>\n",
       "      <td>Control</td>\n",
       "      <td>Memantine</td>\n",
       "      <td>C/S</td>\n",
       "      <td>c-CS-m</td>\n",
       "    </tr>\n",
       "    <tr>\n",
       "      <th>4</th>\n",
       "      <td>0.434940</td>\n",
       "      <td>0.617430</td>\n",
       "      <td>0.358802</td>\n",
       "      <td>2.365785</td>\n",
       "      <td>4.718679</td>\n",
       "      <td>0.213106</td>\n",
       "      <td>0.173627</td>\n",
       "      <td>2.134014</td>\n",
       "      <td>0.192158</td>\n",
       "      <td>1.504230</td>\n",
       "      <td>...</td>\n",
       "      <td>0.110694</td>\n",
       "      <td>0.434154</td>\n",
       "      <td>0.118481</td>\n",
       "      <td>0.140314</td>\n",
       "      <td>0.148380</td>\n",
       "      <td>1.839730</td>\n",
       "      <td>Control</td>\n",
       "      <td>Memantine</td>\n",
       "      <td>C/S</td>\n",
       "      <td>c-CS-m</td>\n",
       "    </tr>\n",
       "  </tbody>\n",
       "</table>\n",
       "<p>5 rows × 81 columns</p>\n",
       "</div>"
      ],
      "text/plain": [
       "   DYRK1A_N   ITSN1_N    BDNF_N     NR1_N    NR2A_N    pAKT_N   pBRAF_N  \\\n",
       "0  0.503644  0.747193  0.430175  2.816329  5.990152  0.218830  0.177565   \n",
       "1  0.514617  0.689064  0.411770  2.789514  5.685038  0.211636  0.172817   \n",
       "2  0.509183  0.730247  0.418309  2.687201  5.622059  0.209011  0.175722   \n",
       "3  0.442107  0.617076  0.358626  2.466947  4.979503  0.222886  0.176463   \n",
       "4  0.434940  0.617430  0.358802  2.365785  4.718679  0.213106  0.173627   \n",
       "\n",
       "   pCAMKII_N   pCREB_N    pELK_N  ...   pCFOS_N     SYP_N  H3AcK18_N  \\\n",
       "0   2.373744  0.232224  1.750936  ...  0.108336  0.427099   0.114783   \n",
       "1   2.292150  0.226972  1.596377  ...  0.104315  0.441581   0.111974   \n",
       "2   2.283337  0.230247  1.561316  ...  0.106219  0.435777   0.111883   \n",
       "3   2.152301  0.207004  1.595086  ...  0.111262  0.391691   0.130405   \n",
       "4   2.134014  0.192158  1.504230  ...  0.110694  0.434154   0.118481   \n",
       "\n",
       "     EGR1_N  H3MeK4_N    CaNA_N  Genotype  Treatment  Behavior   class  \n",
       "0  0.131790  0.128186  1.675652   Control  Memantine       C/S  c-CS-m  \n",
       "1  0.135103  0.131119  1.743610   Control  Memantine       C/S  c-CS-m  \n",
       "2  0.133362  0.127431  1.926427   Control  Memantine       C/S  c-CS-m  \n",
       "3  0.147444  0.146901  1.700563   Control  Memantine       C/S  c-CS-m  \n",
       "4  0.140314  0.148380  1.839730   Control  Memantine       C/S  c-CS-m  \n",
       "\n",
       "[5 rows x 81 columns]"
      ]
     },
     "execution_count": 13,
     "metadata": {},
     "output_type": "execute_result"
    }
   ],
   "source": [
    "kk.head()"
   ]
  },
  {
   "cell_type": "code",
   "execution_count": 14,
   "metadata": {},
   "outputs": [
    {
     "data": {
      "text/plain": [
       "GFAP_N      0.120889\n",
       "pS6_N       0.121521\n",
       "ARC_N       0.121521\n",
       "GluR4_N     0.126560\n",
       "pCFOS_N     0.131053\n",
       "BCL2_N      0.134762\n",
       "ERBB4_N     0.156478\n",
       "BAD_N       0.157914\n",
       "SNCA_N      0.159821\n",
       "pGSK3B_N    0.161211\n",
       "dtype: float64"
      ]
     },
     "execution_count": 14,
     "metadata": {},
     "output_type": "execute_result"
    }
   ],
   "source": [
    "p = kk.mean(axis = 0).sort_values(ascending = True).head(10)\n",
    "p"
   ]
  },
  {
   "cell_type": "code",
   "execution_count": 15,
   "metadata": {},
   "outputs": [
    {
     "data": {
      "image/png": "[encoded data removed]",
      "text/plain": [
       "<Figure size 432x288 with 1 Axes>"
      ]
     },
     "metadata": {
      "needs_background": "light"
     },
     "output_type": "display_data"
    }
   ],
   "source": [
    "import matplotlib.pyplot as plt\n",
    "\n",
    "x = kk['GFAP_N']\n",
    "plt.hist(x, bins = 40)\n",
    "plt.show()"
   ]
  },
  {
   "cell_type": "code",
   "execution_count": 16,
   "metadata": {},
   "outputs": [
    {
     "data": {
      "image/png": "[encoded data removed]",
      "text/plain": [
       "<Figure size 432x288 with 1 Axes>"
      ]
     },
     "metadata": {
      "needs_background": "light"
     },
     "output_type": "display_data"
    }
   ],
   "source": [
    "x = kk['pS6_N']\n",
    "plt.hist(x, bins = 40)\n",
    "plt.show()"
   ]
  },
  {
   "cell_type": "code",
   "execution_count": 17,
   "metadata": {},
   "outputs": [
    {
     "data": {
      "image/png": "[encoded data removed]",
      "text/plain": [
       "<Figure size 432x288 with 1 Axes>"
      ]
     },
     "metadata": {
      "needs_background": "light"
     },
     "output_type": "display_data"
    }
   ],
   "source": [
    "x = kk['ARC_N']\n",
    "plt.hist(x, bins = 40)\n",
    "plt.show()"
   ]
  },
  {
   "cell_type": "code",
   "execution_count": 18,
   "metadata": {},
   "outputs": [
    {
     "data": {
      "image/png": "[encoded data removed]",
      "text/plain": [
       "<Figure size 432x288 with 1 Axes>"
      ]
     },
     "metadata": {
      "needs_background": "light"
     },
     "output_type": "display_data"
    }
   ],
   "source": [
    "x = kk['GluR4_N']\n",
    "plt.hist(x, bins = 40)\n",
    "plt.show()"
   ]
  },
  {
   "cell_type": "code",
   "execution_count": 19,
   "metadata": {},
   "outputs": [
    {
     "data": {
      "image/png": "[encoded data removed]",
      "text/plain": [
       "<Figure size 432x288 with 1 Axes>"
      ]
     },
     "metadata": {
      "needs_background": "light"
     },
     "output_type": "display_data"
    }
   ],
   "source": [
    "x = kk['pCFOS_N']\n",
    "plt.hist(x, bins = 40)\n",
    "plt.show()"
   ]
  },
  {
   "cell_type": "code",
   "execution_count": 20,
   "metadata": {},
   "outputs": [
    {
     "data": {
      "image/png": "[encoded data removed]",
      "text/plain": [
       "<Figure size 432x288 with 1 Axes>"
      ]
     },
     "metadata": {
      "needs_background": "light"
     },
     "output_type": "display_data"
    }
   ],
   "source": [
    "x = kk['BCL2_N']\n",
    "plt.hist(x, bins = 40)\n",
    "plt.show()"
   ]
  },
  {
   "cell_type": "code",
   "execution_count": null,
   "metadata": {},
   "outputs": [],
   "source": []
  },
  {
   "cell_type": "code",
   "execution_count": 21,
   "metadata": {},
   "outputs": [
    {
     "data": {
      "image/png": "[encoded data removed]",
      "text/plain": [
       "<Figure size 432x288 with 1 Axes>"
      ]
     },
     "metadata": {
      "needs_background": "light"
     },
     "output_type": "display_data"
    }
   ],
   "source": [
    "x = kk['ERBB4_N']\n",
    "plt.hist(x, bins = 40)\n",
    "plt.show()"
   ]
  },
  {
   "cell_type": "code",
   "execution_count": 22,
   "metadata": {},
   "outputs": [
    {
     "data": {
      "image/png": "[encoded data removed]",
      "text/plain": [
       "<Figure size 432x288 with 1 Axes>"
      ]
     },
     "metadata": {
      "needs_background": "light"
     },
     "output_type": "display_data"
    }
   ],
   "source": [
    "x = kk['BAD_N']\n",
    "plt.hist(x, bins = 40)\n",
    "plt.show()"
   ]
  },
  {
   "cell_type": "code",
   "execution_count": 23,
   "metadata": {},
   "outputs": [
    {
     "data": {
      "image/png": "[encoded data removed]",
      "text/plain": [
       "<Figure size 432x288 with 1 Axes>"
      ]
     },
     "metadata": {
      "needs_background": "light"
     },
     "output_type": "display_data"
    }
   ],
   "source": [
    "x = kk['SNCA_N']\n",
    "plt.hist(x, bins = 40)\n",
    "plt.show()"
   ]
  },
  {
   "cell_type": "code",
   "execution_count": 24,
   "metadata": {},
   "outputs": [
    {
     "data": {
      "image/png": "[encoded data removed]",
      "text/plain": [
       "<Figure size 432x288 with 1 Axes>"
      ]
     },
     "metadata": {
      "needs_background": "light"
     },
     "output_type": "display_data"
    }
   ],
   "source": [
    "x = kk['pGSK3B_N']\n",
    "plt.hist(x, bins = 40)\n",
    "plt.show()"
   ]
  },
  {
   "cell_type": "markdown",
   "metadata": {},
   "source": [
    "# Exploring Column pairs"
   ]
  },
  {
   "cell_type": "code",
   "execution_count": 25,
   "metadata": {},
   "outputs": [
    {
     "data": {
      "text/html": [
       "<div>\n",
       "<style scoped>\n",
       "    .dataframe tbody tr th:only-of-type {\n",
       "        vertical-align: middle;\n",
       "    }\n",
       "\n",
       "    .dataframe tbody tr th {\n",
       "        vertical-align: top;\n",
       "    }\n",
       "\n",
       "    .dataframe thead th {\n",
       "        text-align: right;\n",
       "    }\n",
       "</style>\n",
       "<table border=\"1\" class=\"dataframe\">\n",
       "  <thead>\n",
       "    <tr style=\"text-align: right;\">\n",
       "      <th></th>\n",
       "      <th>DYRK1A_N</th>\n",
       "      <th>ITSN1_N</th>\n",
       "      <th>BDNF_N</th>\n",
       "      <th>NR1_N</th>\n",
       "      <th>NR2A_N</th>\n",
       "      <th>pAKT_N</th>\n",
       "      <th>pBRAF_N</th>\n",
       "      <th>pCAMKII_N</th>\n",
       "      <th>pCREB_N</th>\n",
       "      <th>pELK_N</th>\n",
       "      <th>...</th>\n",
       "      <th>SHH_N</th>\n",
       "      <th>BAD_N</th>\n",
       "      <th>BCL2_N</th>\n",
       "      <th>pS6_N</th>\n",
       "      <th>pCFOS_N</th>\n",
       "      <th>SYP_N</th>\n",
       "      <th>H3AcK18_N</th>\n",
       "      <th>EGR1_N</th>\n",
       "      <th>H3MeK4_N</th>\n",
       "      <th>CaNA_N</th>\n",
       "    </tr>\n",
       "    <tr>\n",
       "      <th>class</th>\n",
       "      <th></th>\n",
       "      <th></th>\n",
       "      <th></th>\n",
       "      <th></th>\n",
       "      <th></th>\n",
       "      <th></th>\n",
       "      <th></th>\n",
       "      <th></th>\n",
       "      <th></th>\n",
       "      <th></th>\n",
       "      <th></th>\n",
       "      <th></th>\n",
       "      <th></th>\n",
       "      <th></th>\n",
       "      <th></th>\n",
       "      <th></th>\n",
       "      <th></th>\n",
       "      <th></th>\n",
       "      <th></th>\n",
       "      <th></th>\n",
       "      <th></th>\n",
       "    </tr>\n",
       "  </thead>\n",
       "  <tbody>\n",
       "    <tr>\n",
       "      <th>c-CS-m</th>\n",
       "      <td>0.480</td>\n",
       "      <td>0.653</td>\n",
       "      <td>0.339</td>\n",
       "      <td>2.382</td>\n",
       "      <td>4.309</td>\n",
       "      <td>0.230</td>\n",
       "      <td>0.182</td>\n",
       "      <td>2.916</td>\n",
       "      <td>0.198</td>\n",
       "      <td>1.492</td>\n",
       "      <td>...</td>\n",
       "      <td>0.227</td>\n",
       "      <td>0.157</td>\n",
       "      <td>0.133</td>\n",
       "      <td>0.120</td>\n",
       "      <td>0.125</td>\n",
       "      <td>0.467</td>\n",
       "      <td>0.148</td>\n",
       "      <td>0.176</td>\n",
       "      <td>0.189</td>\n",
       "      <td>1.524</td>\n",
       "    </tr>\n",
       "    <tr>\n",
       "      <th>c-CS-s</th>\n",
       "      <td>0.597</td>\n",
       "      <td>0.772</td>\n",
       "      <td>0.342</td>\n",
       "      <td>2.418</td>\n",
       "      <td>4.280</td>\n",
       "      <td>0.212</td>\n",
       "      <td>0.168</td>\n",
       "      <td>2.936</td>\n",
       "      <td>0.208</td>\n",
       "      <td>1.687</td>\n",
       "      <td>...</td>\n",
       "      <td>0.215</td>\n",
       "      <td>0.149</td>\n",
       "      <td>0.128</td>\n",
       "      <td>0.113</td>\n",
       "      <td>0.127</td>\n",
       "      <td>0.445</td>\n",
       "      <td>0.151</td>\n",
       "      <td>0.170</td>\n",
       "      <td>0.183</td>\n",
       "      <td>1.618</td>\n",
       "    </tr>\n",
       "    <tr>\n",
       "      <th>c-SC-m</th>\n",
       "      <td>0.273</td>\n",
       "      <td>0.436</td>\n",
       "      <td>0.291</td>\n",
       "      <td>2.146</td>\n",
       "      <td>3.459</td>\n",
       "      <td>0.241</td>\n",
       "      <td>0.190</td>\n",
       "      <td>4.736</td>\n",
       "      <td>0.208</td>\n",
       "      <td>1.279</td>\n",
       "      <td>...</td>\n",
       "      <td>0.224</td>\n",
       "      <td>0.166</td>\n",
       "      <td>0.145</td>\n",
       "      <td>0.128</td>\n",
       "      <td>0.144</td>\n",
       "      <td>0.457</td>\n",
       "      <td>0.182</td>\n",
       "      <td>0.207</td>\n",
       "      <td>0.215</td>\n",
       "      <td>1.010</td>\n",
       "    </tr>\n",
       "    <tr>\n",
       "      <th>c-SC-s</th>\n",
       "      <td>0.275</td>\n",
       "      <td>0.449</td>\n",
       "      <td>0.313</td>\n",
       "      <td>2.405</td>\n",
       "      <td>3.913</td>\n",
       "      <td>0.233</td>\n",
       "      <td>0.185</td>\n",
       "      <td>3.361</td>\n",
       "      <td>0.215</td>\n",
       "      <td>1.328</td>\n",
       "      <td>...</td>\n",
       "      <td>0.242</td>\n",
       "      <td>0.156</td>\n",
       "      <td>0.133</td>\n",
       "      <td>0.133</td>\n",
       "      <td>0.135</td>\n",
       "      <td>0.472</td>\n",
       "      <td>0.154</td>\n",
       "      <td>0.199</td>\n",
       "      <td>0.216</td>\n",
       "      <td>1.158</td>\n",
       "    </tr>\n",
       "    <tr>\n",
       "      <th>t-CS-m</th>\n",
       "      <td>0.619</td>\n",
       "      <td>0.797</td>\n",
       "      <td>0.313</td>\n",
       "      <td>2.197</td>\n",
       "      <td>3.566</td>\n",
       "      <td>0.214</td>\n",
       "      <td>0.174</td>\n",
       "      <td>3.122</td>\n",
       "      <td>0.203</td>\n",
       "      <td>1.564</td>\n",
       "      <td>...</td>\n",
       "      <td>0.217</td>\n",
       "      <td>0.152</td>\n",
       "      <td>0.132</td>\n",
       "      <td>0.108</td>\n",
       "      <td>0.128</td>\n",
       "      <td>0.414</td>\n",
       "      <td>0.152</td>\n",
       "      <td>0.167</td>\n",
       "      <td>0.186</td>\n",
       "      <td>1.633</td>\n",
       "    </tr>\n",
       "    <tr>\n",
       "      <th>t-CS-s</th>\n",
       "      <td>0.526</td>\n",
       "      <td>0.760</td>\n",
       "      <td>0.305</td>\n",
       "      <td>2.185</td>\n",
       "      <td>3.515</td>\n",
       "      <td>0.214</td>\n",
       "      <td>0.165</td>\n",
       "      <td>2.489</td>\n",
       "      <td>0.210</td>\n",
       "      <td>1.518</td>\n",
       "      <td>...</td>\n",
       "      <td>0.222</td>\n",
       "      <td>0.151</td>\n",
       "      <td>0.131</td>\n",
       "      <td>0.111</td>\n",
       "      <td>0.123</td>\n",
       "      <td>0.434</td>\n",
       "      <td>0.158</td>\n",
       "      <td>0.162</td>\n",
       "      <td>0.191</td>\n",
       "      <td>1.553</td>\n",
       "    </tr>\n",
       "    <tr>\n",
       "      <th>t-SC-m</th>\n",
       "      <td>0.330</td>\n",
       "      <td>0.567</td>\n",
       "      <td>0.321</td>\n",
       "      <td>2.379</td>\n",
       "      <td>4.056</td>\n",
       "      <td>0.269</td>\n",
       "      <td>0.201</td>\n",
       "      <td>4.277</td>\n",
       "      <td>0.232</td>\n",
       "      <td>1.382</td>\n",
       "      <td>...</td>\n",
       "      <td>0.231</td>\n",
       "      <td>0.155</td>\n",
       "      <td>0.137</td>\n",
       "      <td>0.137</td>\n",
       "      <td>0.130</td>\n",
       "      <td>0.446</td>\n",
       "      <td>0.201</td>\n",
       "      <td>0.193</td>\n",
       "      <td>0.234</td>\n",
       "      <td>1.041</td>\n",
       "    </tr>\n",
       "    <tr>\n",
       "      <th>t-SC-s</th>\n",
       "      <td>0.339</td>\n",
       "      <td>0.551</td>\n",
       "      <td>0.325</td>\n",
       "      <td>2.250</td>\n",
       "      <td>3.571</td>\n",
       "      <td>0.246</td>\n",
       "      <td>0.185</td>\n",
       "      <td>4.162</td>\n",
       "      <td>0.227</td>\n",
       "      <td>1.210</td>\n",
       "      <td>...</td>\n",
       "      <td>0.235</td>\n",
       "      <td>0.175</td>\n",
       "      <td>0.136</td>\n",
       "      <td>0.119</td>\n",
       "      <td>0.133</td>\n",
       "      <td>0.428</td>\n",
       "      <td>0.209</td>\n",
       "      <td>0.184</td>\n",
       "      <td>0.226</td>\n",
       "      <td>1.230</td>\n",
       "    </tr>\n",
       "  </tbody>\n",
       "</table>\n",
       "<p>8 rows × 77 columns</p>\n",
       "</div>"
      ],
      "text/plain": [
       "        DYRK1A_N  ITSN1_N  BDNF_N  NR1_N  NR2A_N  pAKT_N  pBRAF_N  pCAMKII_N  \\\n",
       "class                                                                          \n",
       "c-CS-m     0.480    0.653   0.339  2.382   4.309   0.230    0.182      2.916   \n",
       "c-CS-s     0.597    0.772   0.342  2.418   4.280   0.212    0.168      2.936   \n",
       "c-SC-m     0.273    0.436   0.291  2.146   3.459   0.241    0.190      4.736   \n",
       "c-SC-s     0.275    0.449   0.313  2.405   3.913   0.233    0.185      3.361   \n",
       "t-CS-m     0.619    0.797   0.313  2.197   3.566   0.214    0.174      3.122   \n",
       "t-CS-s     0.526    0.760   0.305  2.185   3.515   0.214    0.165      2.489   \n",
       "t-SC-m     0.330    0.567   0.321  2.379   4.056   0.269    0.201      4.277   \n",
       "t-SC-s     0.339    0.551   0.325  2.250   3.571   0.246    0.185      4.162   \n",
       "\n",
       "        pCREB_N  pELK_N  ...  SHH_N  BAD_N  BCL2_N  pS6_N  pCFOS_N  SYP_N  \\\n",
       "class                    ...                                                \n",
       "c-CS-m    0.198   1.492  ...  0.227  0.157   0.133  0.120    0.125  0.467   \n",
       "c-CS-s    0.208   1.687  ...  0.215  0.149   0.128  0.113    0.127  0.445   \n",
       "c-SC-m    0.208   1.279  ...  0.224  0.166   0.145  0.128    0.144  0.457   \n",
       "c-SC-s    0.215   1.328  ...  0.242  0.156   0.133  0.133    0.135  0.472   \n",
       "t-CS-m    0.203   1.564  ...  0.217  0.152   0.132  0.108    0.128  0.414   \n",
       "t-CS-s    0.210   1.518  ...  0.222  0.151   0.131  0.111    0.123  0.434   \n",
       "t-SC-m    0.232   1.382  ...  0.231  0.155   0.137  0.137    0.130  0.446   \n",
       "t-SC-s    0.227   1.210  ...  0.235  0.175   0.136  0.119    0.133  0.428   \n",
       "\n",
       "        H3AcK18_N  EGR1_N  H3MeK4_N  CaNA_N  \n",
       "class                                        \n",
       "c-CS-m      0.148   0.176     0.189   1.524  \n",
       "c-CS-s      0.151   0.170     0.183   1.618  \n",
       "c-SC-m      0.182   0.207     0.215   1.010  \n",
       "c-SC-s      0.154   0.199     0.216   1.158  \n",
       "t-CS-m      0.152   0.167     0.186   1.633  \n",
       "t-CS-s      0.158   0.162     0.191   1.553  \n",
       "t-SC-m      0.201   0.193     0.234   1.041  \n",
       "t-SC-s      0.209   0.184     0.226   1.230  \n",
       "\n",
       "[8 rows x 77 columns]"
      ]
     },
     "execution_count": 25,
     "metadata": {},
     "output_type": "execute_result"
    }
   ],
   "source": [
    "mean_byclass = list()\n",
    "m = kk.groupby(by = 'class').mean()\n",
    "mean_byclass.append(m)\n",
    "new = mean_byclass[0].round(3)\n",
    "new"
   ]
  },
  {
   "cell_type": "code",
   "execution_count": 26,
   "metadata": {},
   "outputs": [
    {
     "data": {
      "text/plain": [
       "[0.124, 0.127, 0.114, 0.117, 0.118, 0.129, 0.118, 0.123]"
      ]
     },
     "execution_count": 26,
     "metadata": {},
     "output_type": "execute_result"
    }
   ],
   "source": [
    "total = list(new['GFAP_N'].values)\n",
    "total"
   ]
  },
  {
   "cell_type": "code",
   "execution_count": 27,
   "metadata": {},
   "outputs": [
    {
     "data": {
      "image/png": "[encoded data removed]",
      "text/plain": [
       "<Figure size 432x288 with 1 Axes>"
      ]
     },
     "metadata": {
      "needs_background": "light"
     },
     "output_type": "display_data"
    }
   ],
   "source": [
    "label_c = ['c-CS-m', 'c-CS-s', 'c-SC-m', 'c-SC-s', 't-CS-m','t-CS-s','t-SC-m','t-SC-s']\n",
    "\n",
    "# label location\n",
    "a = np.arange(len(label_c))  \n",
    "# bar width\n",
    "wd = 0.4  \n",
    "\n",
    "plt.bar(a, total, wd)\n",
    "\n",
    "# Adding labels to the graph\n",
    "plt.ylabel('Average')\n",
    "plt.title(\"Average for GFAP_N by Class\")\n",
    "plt.xlabel(\"Class\")\n",
    "plt.xticks(a + wd / 2, label_c)\n",
    "plt.show()"
   ]
  },
  {
   "cell_type": "code",
   "execution_count": 28,
   "metadata": {},
   "outputs": [
    {
     "data": {
      "text/plain": [
       "[0.12, 0.113, 0.128, 0.133, 0.108, 0.111, 0.137, 0.119]"
      ]
     },
     "execution_count": 28,
     "metadata": {},
     "output_type": "execute_result"
    }
   ],
   "source": [
    "total = list(new['pS6_N'].values)\n",
    "total"
   ]
  },
  {
   "cell_type": "code",
   "execution_count": 29,
   "metadata": {},
   "outputs": [
    {
     "data": {
      "image/png": "[encoded data removed]",
      "text/plain": [
       "<Figure size 432x288 with 1 Axes>"
      ]
     },
     "metadata": {
      "needs_background": "light"
     },
     "output_type": "display_data"
    }
   ],
   "source": [
    "label_c = ['c-CS-m', 'c-CS-s', 'c-SC-m', 'c-SC-s', 't-CS-m','t-CS-s','t-SC-m','t-SC-s']\n",
    "\n",
    "# label location\n",
    "a = np.arange(len(label_c))  \n",
    "# bar width\n",
    "wd = 0.4  \n",
    "\n",
    "plt.bar(a, total, wd)\n",
    "\n",
    "# Adding labels to the graph\n",
    "plt.ylabel('Average')\n",
    "plt.title(\"Average for pS6_N by Class\")\n",
    "plt.xlabel(\"Class\")\n",
    "plt.xticks(a + wd / 2, label_c)\n",
    "plt.show()"
   ]
  },
  {
   "cell_type": "code",
   "execution_count": 30,
   "metadata": {},
   "outputs": [
    {
     "data": {
      "text/plain": [
       "[0.12, 0.113, 0.128, 0.133, 0.108, 0.111, 0.137, 0.119]"
      ]
     },
     "execution_count": 30,
     "metadata": {},
     "output_type": "execute_result"
    }
   ],
   "source": [
    "total = list(new['ARC_N'].values)\n",
    "total"
   ]
  },
  {
   "cell_type": "code",
   "execution_count": 31,
   "metadata": {},
   "outputs": [
    {
     "data": {
      "image/png": "[encoded data removed]",
      "text/plain": [
       "<Figure size 432x288 with 1 Axes>"
      ]
     },
     "metadata": {
      "needs_background": "light"
     },
     "output_type": "display_data"
    }
   ],
   "source": [
    "label_c = ['c-CS-m', 'c-CS-s', 'c-SC-m', 'c-SC-s', 't-CS-m','t-CS-s','t-SC-m','t-SC-s']\n",
    "\n",
    "# label location\n",
    "a = np.arange(len(label_c))  \n",
    "# bar width\n",
    "wd = 0.4  \n",
    "\n",
    "plt.bar(a, total, wd)\n",
    "\n",
    "# Adding labels to the graph\n",
    "plt.ylabel('Average')\n",
    "plt.title(\"Average for ARC_N by Class\")\n",
    "plt.xlabel(\"Class\")\n",
    "plt.xticks(a + wd / 2, label_c)\n",
    "plt.show()"
   ]
  },
  {
   "cell_type": "code",
   "execution_count": 32,
   "metadata": {},
   "outputs": [
    {
     "data": {
      "text/plain": [
       "[0.124, 0.128, 0.128, 0.128, 0.125, 0.118, 0.126, 0.134]"
      ]
     },
     "execution_count": 32,
     "metadata": {},
     "output_type": "execute_result"
    }
   ],
   "source": [
    "total = list(new['GluR4_N'].values)\n",
    "total"
   ]
  },
  {
   "cell_type": "code",
   "execution_count": 33,
   "metadata": {},
   "outputs": [
    {
     "data": {
      "image/png": "[encoded data removed]",
      "text/plain": [
       "<Figure size 432x288 with 1 Axes>"
      ]
     },
     "metadata": {
      "needs_background": "light"
     },
     "output_type": "display_data"
    }
   ],
   "source": [
    "label_c = ['c-CS-m', 'c-CS-s', 'c-SC-m', 'c-SC-s', 't-CS-m','t-CS-s','t-SC-m','t-SC-s']\n",
    "\n",
    "# label location\n",
    "a = np.arange(len(label_c))  \n",
    "# bar width\n",
    "wd = 0.4  \n",
    "\n",
    "plt.bar(a, total, wd)\n",
    "\n",
    "# Adding labels to the graph\n",
    "plt.ylabel('Average')\n",
    "plt.title(\"Average for GluR4_N by Class\")\n",
    "plt.xlabel(\"Class\")\n",
    "plt.xticks(a + wd / 2, label_c)\n",
    "plt.show()"
   ]
  },
  {
   "cell_type": "code",
   "execution_count": 34,
   "metadata": {},
   "outputs": [
    {
     "data": {
      "text/plain": [
       "[0.125, 0.127, 0.144, 0.135, 0.128, 0.123, 0.13, 0.133]"
      ]
     },
     "execution_count": 34,
     "metadata": {},
     "output_type": "execute_result"
    }
   ],
   "source": [
    "total = list(new['pCFOS_N'].values)\n",
    "total"
   ]
  },
  {
   "cell_type": "code",
   "execution_count": 35,
   "metadata": {},
   "outputs": [
    {
     "data": {
      "image/png": "[encoded data removed]",
      "text/plain": [
       "<Figure size 432x288 with 1 Axes>"
      ]
     },
     "metadata": {
      "needs_background": "light"
     },
     "output_type": "display_data"
    }
   ],
   "source": [
    "label_c = ['c-CS-m', 'c-CS-s', 'c-SC-m', 'c-SC-s', 't-CS-m','t-CS-s','t-SC-m','t-SC-s']\n",
    "\n",
    "# label location\n",
    "a = np.arange(len(label_c))  \n",
    "# bar width\n",
    "wd = 0.4  \n",
    "\n",
    "plt.bar(a, total, wd)\n",
    "\n",
    "# Adding labels to the graph\n",
    "plt.ylabel('Average')\n",
    "plt.title(\"Average for pCFOS_N by Class\")\n",
    "plt.xlabel(\"Class\")\n",
    "plt.xticks(a + wd / 2, label_c)\n",
    "plt.show()"
   ]
  },
  {
   "cell_type": "code",
   "execution_count": 36,
   "metadata": {},
   "outputs": [
    {
     "data": {
      "text/plain": [
       "[0.133, 0.128, 0.145, 0.133, 0.132, 0.131, 0.137, 0.136]"
      ]
     },
     "execution_count": 36,
     "metadata": {},
     "output_type": "execute_result"
    }
   ],
   "source": [
    "total = list(new['BCL2_N'].values)\n",
    "total"
   ]
  },
  {
   "cell_type": "code",
   "execution_count": 37,
   "metadata": {},
   "outputs": [
    {
     "data": {
      "image/png": "[encoded data removed]",
      "text/plain": [
       "<Figure size 432x288 with 1 Axes>"
      ]
     },
     "metadata": {
      "needs_background": "light"
     },
     "output_type": "display_data"
    }
   ],
   "source": [
    "label_c = ['c-CS-m', 'c-CS-s', 'c-SC-m', 'c-SC-s', 't-CS-m','t-CS-s','t-SC-m','t-SC-s']\n",
    "\n",
    "# label location\n",
    "a = np.arange(len(label_c))  \n",
    "# bar width\n",
    "wd = 0.4  \n",
    "\n",
    "plt.bar(a, total, wd)\n",
    "\n",
    "# Adding labels to the graph\n",
    "plt.ylabel('Average')\n",
    "plt.title(\"Average for BCL2_N by Class\")\n",
    "plt.xlabel(\"Class\")\n",
    "plt.xticks(a + wd / 2, label_c)\n",
    "plt.show()"
   ]
  },
  {
   "cell_type": "code",
   "execution_count": 38,
   "metadata": {},
   "outputs": [
    {
     "data": {
      "text/plain": [
       "[0.158, 0.149, 0.155, 0.162, 0.148, 0.152, 0.169, 0.158]"
      ]
     },
     "execution_count": 38,
     "metadata": {},
     "output_type": "execute_result"
    }
   ],
   "source": [
    "total = list(new['ERBB4_N'].values)\n",
    "total"
   ]
  },
  {
   "cell_type": "code",
   "execution_count": 39,
   "metadata": {},
   "outputs": [
    {
     "data": {
      "image/png": "[encoded data removed]",
      "text/plain": [
       "<Figure size 432x288 with 1 Axes>"
      ]
     },
     "metadata": {
      "needs_background": "light"
     },
     "output_type": "display_data"
    }
   ],
   "source": [
    "label_c = ['c-CS-m', 'c-CS-s', 'c-SC-m', 'c-SC-s', 't-CS-m','t-CS-s','t-SC-m','t-SC-s']\n",
    "\n",
    "# label location\n",
    "a = np.arange(len(label_c))  \n",
    "# bar width\n",
    "wd = 0.4  \n",
    "\n",
    "plt.bar(a, total, wd)\n",
    "\n",
    "# Adding labels to the graph\n",
    "plt.ylabel('Average')\n",
    "plt.title(\"Average for ERBB4_N by Class\")\n",
    "plt.xlabel(\"Class\")\n",
    "plt.xticks(a + wd / 2, label_c)\n",
    "plt.show()"
   ]
  },
  {
   "cell_type": "code",
   "execution_count": 40,
   "metadata": {},
   "outputs": [
    {
     "data": {
      "text/plain": [
       "[0.157, 0.149, 0.166, 0.156, 0.152, 0.151, 0.155, 0.175]"
      ]
     },
     "execution_count": 40,
     "metadata": {},
     "output_type": "execute_result"
    }
   ],
   "source": [
    "total = list(new['BAD_N'].values)\n",
    "total"
   ]
  },
  {
   "cell_type": "code",
   "execution_count": 41,
   "metadata": {},
   "outputs": [
    {
     "data": {
      "image/png": "[encoded data removed]",
      "text/plain": [
       "<Figure size 432x288 with 1 Axes>"
      ]
     },
     "metadata": {
      "needs_background": "light"
     },
     "output_type": "display_data"
    }
   ],
   "source": [
    "label_c = ['c-CS-m', 'c-CS-s', 'c-SC-m', 'c-SC-s', 't-CS-m','t-CS-s','t-SC-m','t-SC-s']\n",
    "\n",
    "# label location\n",
    "a = np.arange(len(label_c))  \n",
    "# bar width\n",
    "wd = 0.4  \n",
    "\n",
    "plt.bar(a, total, wd)\n",
    "\n",
    "# Adding labels to the graph\n",
    "plt.ylabel('Average')\n",
    "plt.title(\"Average for BAD_N by Class\")\n",
    "plt.xlabel(\"Class\")\n",
    "plt.xticks(a + wd / 2, label_c)\n",
    "plt.show()"
   ]
  },
  {
   "cell_type": "code",
   "execution_count": 42,
   "metadata": {},
   "outputs": [
    {
     "data": {
      "text/plain": [
       "[0.152, 0.147, 0.177, 0.173, 0.138, 0.154, 0.177, 0.158]"
      ]
     },
     "execution_count": 42,
     "metadata": {},
     "output_type": "execute_result"
    }
   ],
   "source": [
    "total = list(new['SNCA_N'].values)\n",
    "total"
   ]
  },
  {
   "cell_type": "code",
   "execution_count": 43,
   "metadata": {},
   "outputs": [
    {
     "data": {
      "image/png": "[encoded data removed]",
      "text/plain": [
       "<Figure size 432x288 with 1 Axes>"
      ]
     },
     "metadata": {
      "needs_background": "light"
     },
     "output_type": "display_data"
    }
   ],
   "source": [
    "label_c = ['c-CS-m', 'c-CS-s', 'c-SC-m', 'c-SC-s', 't-CS-m','t-CS-s','t-SC-m','t-SC-s']\n",
    "\n",
    "# label location\n",
    "a = np.arange(len(label_c))  \n",
    "# bar width\n",
    "wd = 0.4  \n",
    "\n",
    "plt.bar(a, total, wd)\n",
    "\n",
    "# Adding labels to the graph\n",
    "plt.ylabel('Average')\n",
    "plt.title(\"Average for SNCA_N by Class\")\n",
    "plt.xlabel(\"Class\")\n",
    "plt.xticks(a + wd / 2, label_c)\n",
    "plt.show()"
   ]
  },
  {
   "cell_type": "code",
   "execution_count": 44,
   "metadata": {},
   "outputs": [
    {
     "data": {
      "text/plain": [
       "[0.166, 0.178, 0.144, 0.148, 0.168, 0.171, 0.151, 0.167]"
      ]
     },
     "execution_count": 44,
     "metadata": {},
     "output_type": "execute_result"
    }
   ],
   "source": [
    "total = list(new['pGSK3B_N'].values)\n",
    "total"
   ]
  },
  {
   "cell_type": "code",
   "execution_count": 45,
   "metadata": {},
   "outputs": [
    {
     "data": {
      "image/png": "[encoded data removed]",
      "text/plain": [
       "<Figure size 432x288 with 1 Axes>"
      ]
     },
     "metadata": {
      "needs_background": "light"
     },
     "output_type": "display_data"
    }
   ],
   "source": [
    "label_c = ['c-CS-m', 'c-CS-s', 'c-SC-m', 'c-SC-s', 't-CS-m','t-CS-s','t-SC-m','t-SC-s']\n",
    "\n",
    "# label location\n",
    "a = np.arange(len(label_c))  \n",
    "# bar width\n",
    "wd = 0.4  \n",
    "\n",
    "plt.bar(a, total, wd)\n",
    "\n",
    "# Adding labels to the graph\n",
    "plt.ylabel('Average')\n",
    "plt.title(\"Average for pGSK3B_N by Class\")\n",
    "plt.xlabel(\"Class\")\n",
    "plt.xticks(a + wd / 2, label_c)\n",
    "plt.show()"
   ]
  },
  {
   "cell_type": "markdown",
   "metadata": {},
   "source": [
    "# Encoding Target and Categorical Variables"
   ]
  },
  {
   "cell_type": "code",
   "execution_count": 46,
   "metadata": {},
   "outputs": [
    {
     "data": {
      "text/html": [
       "<div>\n",
       "<style scoped>\n",
       "    .dataframe tbody tr th:only-of-type {\n",
       "        vertical-align: middle;\n",
       "    }\n",
       "\n",
       "    .dataframe tbody tr th {\n",
       "        vertical-align: top;\n",
       "    }\n",
       "\n",
       "    .dataframe thead th {\n",
       "        text-align: right;\n",
       "    }\n",
       "</style>\n",
       "<table border=\"1\" class=\"dataframe\">\n",
       "  <thead>\n",
       "    <tr style=\"text-align: right;\">\n",
       "      <th></th>\n",
       "      <th>DYRK1A_N</th>\n",
       "      <th>ITSN1_N</th>\n",
       "      <th>BDNF_N</th>\n",
       "      <th>NR1_N</th>\n",
       "      <th>NR2A_N</th>\n",
       "      <th>pAKT_N</th>\n",
       "      <th>pBRAF_N</th>\n",
       "      <th>pCAMKII_N</th>\n",
       "      <th>pCREB_N</th>\n",
       "      <th>pELK_N</th>\n",
       "      <th>...</th>\n",
       "      <th>pCFOS_N</th>\n",
       "      <th>SYP_N</th>\n",
       "      <th>H3AcK18_N</th>\n",
       "      <th>EGR1_N</th>\n",
       "      <th>H3MeK4_N</th>\n",
       "      <th>CaNA_N</th>\n",
       "      <th>Genotype</th>\n",
       "      <th>Treatment</th>\n",
       "      <th>Behavior</th>\n",
       "      <th>class</th>\n",
       "    </tr>\n",
       "  </thead>\n",
       "  <tbody>\n",
       "    <tr>\n",
       "      <th>0</th>\n",
       "      <td>0.503644</td>\n",
       "      <td>0.747193</td>\n",
       "      <td>0.430175</td>\n",
       "      <td>2.816329</td>\n",
       "      <td>5.990152</td>\n",
       "      <td>0.218830</td>\n",
       "      <td>0.177565</td>\n",
       "      <td>2.373744</td>\n",
       "      <td>0.232224</td>\n",
       "      <td>1.750936</td>\n",
       "      <td>...</td>\n",
       "      <td>0.108336</td>\n",
       "      <td>0.427099</td>\n",
       "      <td>0.114783</td>\n",
       "      <td>0.131790</td>\n",
       "      <td>0.128186</td>\n",
       "      <td>1.675652</td>\n",
       "      <td>Control</td>\n",
       "      <td>Memantine</td>\n",
       "      <td>C/S</td>\n",
       "      <td>c-CS-m</td>\n",
       "    </tr>\n",
       "    <tr>\n",
       "      <th>1</th>\n",
       "      <td>0.514617</td>\n",
       "      <td>0.689064</td>\n",
       "      <td>0.411770</td>\n",
       "      <td>2.789514</td>\n",
       "      <td>5.685038</td>\n",
       "      <td>0.211636</td>\n",
       "      <td>0.172817</td>\n",
       "      <td>2.292150</td>\n",
       "      <td>0.226972</td>\n",
       "      <td>1.596377</td>\n",
       "      <td>...</td>\n",
       "      <td>0.104315</td>\n",
       "      <td>0.441581</td>\n",
       "      <td>0.111974</td>\n",
       "      <td>0.135103</td>\n",
       "      <td>0.131119</td>\n",
       "      <td>1.743610</td>\n",
       "      <td>Control</td>\n",
       "      <td>Memantine</td>\n",
       "      <td>C/S</td>\n",
       "      <td>c-CS-m</td>\n",
       "    </tr>\n",
       "    <tr>\n",
       "      <th>2</th>\n",
       "      <td>0.509183</td>\n",
       "      <td>0.730247</td>\n",
       "      <td>0.418309</td>\n",
       "      <td>2.687201</td>\n",
       "      <td>5.622059</td>\n",
       "      <td>0.209011</td>\n",
       "      <td>0.175722</td>\n",
       "      <td>2.283337</td>\n",
       "      <td>0.230247</td>\n",
       "      <td>1.561316</td>\n",
       "      <td>...</td>\n",
       "      <td>0.106219</td>\n",
       "      <td>0.435777</td>\n",
       "      <td>0.111883</td>\n",
       "      <td>0.133362</td>\n",
       "      <td>0.127431</td>\n",
       "      <td>1.926427</td>\n",
       "      <td>Control</td>\n",
       "      <td>Memantine</td>\n",
       "      <td>C/S</td>\n",
       "      <td>c-CS-m</td>\n",
       "    </tr>\n",
       "    <tr>\n",
       "      <th>3</th>\n",
       "      <td>0.442107</td>\n",
       "      <td>0.617076</td>\n",
       "      <td>0.358626</td>\n",
       "      <td>2.466947</td>\n",
       "      <td>4.979503</td>\n",
       "      <td>0.222886</td>\n",
       "      <td>0.176463</td>\n",
       "      <td>2.152301</td>\n",
       "      <td>0.207004</td>\n",
       "      <td>1.595086</td>\n",
       "      <td>...</td>\n",
       "      <td>0.111262</td>\n",
       "      <td>0.391691</td>\n",
       "      <td>0.130405</td>\n",
       "      <td>0.147444</td>\n",
       "      <td>0.146901</td>\n",
       "      <td>1.700563</td>\n",
       "      <td>Control</td>\n",
       "      <td>Memantine</td>\n",
       "      <td>C/S</td>\n",
       "      <td>c-CS-m</td>\n",
       "    </tr>\n",
       "    <tr>\n",
       "      <th>4</th>\n",
       "      <td>0.434940</td>\n",
       "      <td>0.617430</td>\n",
       "      <td>0.358802</td>\n",
       "      <td>2.365785</td>\n",
       "      <td>4.718679</td>\n",
       "      <td>0.213106</td>\n",
       "      <td>0.173627</td>\n",
       "      <td>2.134014</td>\n",
       "      <td>0.192158</td>\n",
       "      <td>1.504230</td>\n",
       "      <td>...</td>\n",
       "      <td>0.110694</td>\n",
       "      <td>0.434154</td>\n",
       "      <td>0.118481</td>\n",
       "      <td>0.140314</td>\n",
       "      <td>0.148380</td>\n",
       "      <td>1.839730</td>\n",
       "      <td>Control</td>\n",
       "      <td>Memantine</td>\n",
       "      <td>C/S</td>\n",
       "      <td>c-CS-m</td>\n",
       "    </tr>\n",
       "  </tbody>\n",
       "</table>\n",
       "<p>5 rows × 81 columns</p>\n",
       "</div>"
      ],
      "text/plain": [
       "   DYRK1A_N   ITSN1_N    BDNF_N     NR1_N    NR2A_N    pAKT_N   pBRAF_N  \\\n",
       "0  0.503644  0.747193  0.430175  2.816329  5.990152  0.218830  0.177565   \n",
       "1  0.514617  0.689064  0.411770  2.789514  5.685038  0.211636  0.172817   \n",
       "2  0.509183  0.730247  0.418309  2.687201  5.622059  0.209011  0.175722   \n",
       "3  0.442107  0.617076  0.358626  2.466947  4.979503  0.222886  0.176463   \n",
       "4  0.434940  0.617430  0.358802  2.365785  4.718679  0.213106  0.173627   \n",
       "\n",
       "   pCAMKII_N   pCREB_N    pELK_N  ...   pCFOS_N     SYP_N  H3AcK18_N  \\\n",
       "0   2.373744  0.232224  1.750936  ...  0.108336  0.427099   0.114783   \n",
       "1   2.292150  0.226972  1.596377  ...  0.104315  0.441581   0.111974   \n",
       "2   2.283337  0.230247  1.561316  ...  0.106219  0.435777   0.111883   \n",
       "3   2.152301  0.207004  1.595086  ...  0.111262  0.391691   0.130405   \n",
       "4   2.134014  0.192158  1.504230  ...  0.110694  0.434154   0.118481   \n",
       "\n",
       "     EGR1_N  H3MeK4_N    CaNA_N  Genotype  Treatment  Behavior   class  \n",
       "0  0.131790  0.128186  1.675652   Control  Memantine       C/S  c-CS-m  \n",
       "1  0.135103  0.131119  1.743610   Control  Memantine       C/S  c-CS-m  \n",
       "2  0.133362  0.127431  1.926427   Control  Memantine       C/S  c-CS-m  \n",
       "3  0.147444  0.146901  1.700563   Control  Memantine       C/S  c-CS-m  \n",
       "4  0.140314  0.148380  1.839730   Control  Memantine       C/S  c-CS-m  \n",
       "\n",
       "[5 rows x 81 columns]"
      ]
     },
     "execution_count": 46,
     "metadata": {},
     "output_type": "execute_result"
    }
   ],
   "source": [
    "kk.head()"
   ]
  },
  {
   "cell_type": "code",
   "execution_count": 47,
   "metadata": {},
   "outputs": [
    {
     "data": {
      "text/plain": [
       "c-CS-m    150\n",
       "c-SC-m    150\n",
       "c-SC-s    135\n",
       "t-CS-m    135\n",
       "c-CS-s    135\n",
       "t-SC-s    135\n",
       "t-SC-m    135\n",
       "t-CS-s    105\n",
       "Name: class, dtype: int64"
      ]
     },
     "execution_count": 47,
     "metadata": {},
     "output_type": "execute_result"
    }
   ],
   "source": [
    "Data = kk.drop(columns= ['class','Treatment', 'Behavior', 'Genotype'])\n",
    "Target = kk['class']\n",
    "Target.value_counts()"
   ]
  },
  {
   "cell_type": "code",
   "execution_count": 48,
   "metadata": {},
   "outputs": [
    {
     "name": "stdout",
     "output_type": "stream",
     "text": [
      "['DYRK1A_N' 'ITSN1_N' 'BDNF_N' 'NR1_N' 'NR2A_N' 'pAKT_N' 'pBRAF_N'\n",
      " 'pCAMKII_N' 'pCREB_N' 'pELK_N' 'pERK_N' 'pJNK_N' 'PKCA_N' 'pMEK_N'\n",
      " 'pNR1_N' 'pNR2A_N' 'pNR2B_N' 'pPKCAB_N' 'pRSK_N' 'AKT_N' 'BRAF_N'\n",
      " 'CAMKII_N' 'CREB_N' 'ELK_N' 'ERK_N' 'GSK3B_N' 'JNK_N' 'MEK_N' 'TRKA_N'\n",
      " 'RSK_N' 'APP_N' 'Bcatenin_N' 'SOD1_N' 'MTOR_N' 'P38_N' 'pMTOR_N'\n",
      " 'DSCR1_N' 'AMPKA_N' 'NR2B_N' 'pNUMB_N' 'RAPTOR_N' 'TIAM1_N' 'pP70S6_N'\n",
      " 'NUMB_N' 'P70S6_N' 'pGSK3B_N' 'pPKCG_N' 'CDK5_N' 'S6_N' 'ADARB1_N'\n",
      " 'AcetylH3K9_N' 'RRP1_N' 'BAX_N' 'ARC_N' 'ERBB4_N' 'nNOS_N' 'Tau_N'\n",
      " 'GFAP_N' 'GluR3_N' 'GluR4_N' 'IL1B_N' 'P3525_N' 'pCASP9_N' 'PSD95_N'\n",
      " 'SNCA_N' 'Ubiquitin_N' 'pGSK3B_Tyr216_N' 'SHH_N' 'BAD_N' 'BCL2_N' 'pS6_N'\n",
      " 'pCFOS_N' 'SYP_N' 'H3AcK18_N' 'EGR1_N' 'H3MeK4_N' 'CaNA_N']\n",
      "['c-CS-m' 'c-CS-m' 'c-CS-m' ... 't-SC-s' 't-SC-s' 't-SC-s']\n"
     ]
    }
   ],
   "source": [
    "feature = Data.columns.values\n",
    "t = Target.values\n",
    "print(feature)\n",
    "print(t)"
   ]
  },
  {
   "cell_type": "code",
   "execution_count": 49,
   "metadata": {},
   "outputs": [],
   "source": [
    "from sklearn import preprocessing\n",
    "\n",
    "Data_kk = Data.copy()\n",
    "\n",
    "Data_scaler = preprocessing.MinMaxScaler()\n",
    "Data_scaler.fit(Data)\n",
    "Data = Data_scaler.fit_transform(Data)"
   ]
  },
  {
   "cell_type": "code",
   "execution_count": 50,
   "metadata": {},
   "outputs": [
    {
     "data": {
      "text/html": [
       "<div>\n",
       "<style scoped>\n",
       "    .dataframe tbody tr th:only-of-type {\n",
       "        vertical-align: middle;\n",
       "    }\n",
       "\n",
       "    .dataframe tbody tr th {\n",
       "        vertical-align: top;\n",
       "    }\n",
       "\n",
       "    .dataframe thead th {\n",
       "        text-align: right;\n",
       "    }\n",
       "</style>\n",
       "<table border=\"1\" class=\"dataframe\">\n",
       "  <thead>\n",
       "    <tr style=\"text-align: right;\">\n",
       "      <th></th>\n",
       "      <th>DYRK1A_N</th>\n",
       "      <th>ITSN1_N</th>\n",
       "      <th>BDNF_N</th>\n",
       "      <th>NR1_N</th>\n",
       "      <th>NR2A_N</th>\n",
       "      <th>pAKT_N</th>\n",
       "      <th>pBRAF_N</th>\n",
       "      <th>pCAMKII_N</th>\n",
       "      <th>pCREB_N</th>\n",
       "      <th>pELK_N</th>\n",
       "      <th>...</th>\n",
       "      <th>SHH_N</th>\n",
       "      <th>BAD_N</th>\n",
       "      <th>BCL2_N</th>\n",
       "      <th>pS6_N</th>\n",
       "      <th>pCFOS_N</th>\n",
       "      <th>SYP_N</th>\n",
       "      <th>H3AcK18_N</th>\n",
       "      <th>EGR1_N</th>\n",
       "      <th>H3MeK4_N</th>\n",
       "      <th>CaNA_N</th>\n",
       "    </tr>\n",
       "  </thead>\n",
       "  <tbody>\n",
       "    <tr>\n",
       "      <th>0</th>\n",
       "      <td>0.151122</td>\n",
       "      <td>0.212885</td>\n",
       "      <td>0.824638</td>\n",
       "      <td>0.612119</td>\n",
       "      <td>0.630482</td>\n",
       "      <td>0.327006</td>\n",
       "      <td>0.448666</td>\n",
       "      <td>0.168257</td>\n",
       "      <td>0.617322</td>\n",
       "      <td>0.232553</td>\n",
       "      <td>...</td>\n",
       "      <td>0.162941</td>\n",
       "      <td>0.177312</td>\n",
       "      <td>0.299172</td>\n",
       "      <td>0.426816</td>\n",
       "      <td>0.133930</td>\n",
       "      <td>0.336299</td>\n",
       "      <td>0.087715</td>\n",
       "      <td>0.102890</td>\n",
       "      <td>0.084580</td>\n",
       "      <td>0.705738</td>\n",
       "    </tr>\n",
       "    <tr>\n",
       "      <th>1</th>\n",
       "      <td>0.155750</td>\n",
       "      <td>0.188226</td>\n",
       "      <td>0.776455</td>\n",
       "      <td>0.601070</td>\n",
       "      <td>0.585247</td>\n",
       "      <td>0.311887</td>\n",
       "      <td>0.429899</td>\n",
       "      <td>0.154925</td>\n",
       "      <td>0.590173</td>\n",
       "      <td>0.205362</td>\n",
       "      <td>...</td>\n",
       "      <td>0.220010</td>\n",
       "      <td>0.146494</td>\n",
       "      <td>0.299172</td>\n",
       "      <td>0.429952</td>\n",
       "      <td>0.110434</td>\n",
       "      <td>0.365208</td>\n",
       "      <td>0.080692</td>\n",
       "      <td>0.115874</td>\n",
       "      <td>0.093977</td>\n",
       "      <td>0.749771</td>\n",
       "    </tr>\n",
       "    <tr>\n",
       "      <th>2</th>\n",
       "      <td>0.153459</td>\n",
       "      <td>0.205696</td>\n",
       "      <td>0.793572</td>\n",
       "      <td>0.558911</td>\n",
       "      <td>0.575910</td>\n",
       "      <td>0.306369</td>\n",
       "      <td>0.441381</td>\n",
       "      <td>0.153485</td>\n",
       "      <td>0.607102</td>\n",
       "      <td>0.199194</td>\n",
       "      <td>...</td>\n",
       "      <td>0.186816</td>\n",
       "      <td>0.155920</td>\n",
       "      <td>0.299172</td>\n",
       "      <td>0.448652</td>\n",
       "      <td>0.121560</td>\n",
       "      <td>0.353621</td>\n",
       "      <td>0.080465</td>\n",
       "      <td>0.109050</td>\n",
       "      <td>0.082162</td>\n",
       "      <td>0.868229</td>\n",
       "    </tr>\n",
       "    <tr>\n",
       "      <th>3</th>\n",
       "      <td>0.125169</td>\n",
       "      <td>0.157688</td>\n",
       "      <td>0.637326</td>\n",
       "      <td>0.468152</td>\n",
       "      <td>0.480646</td>\n",
       "      <td>0.335530</td>\n",
       "      <td>0.444307</td>\n",
       "      <td>0.132074</td>\n",
       "      <td>0.486945</td>\n",
       "      <td>0.205135</td>\n",
       "      <td>...</td>\n",
       "      <td>0.179047</td>\n",
       "      <td>0.229602</td>\n",
       "      <td>0.299172</td>\n",
       "      <td>0.392700</td>\n",
       "      <td>0.151031</td>\n",
       "      <td>0.265619</td>\n",
       "      <td>0.126763</td>\n",
       "      <td>0.164241</td>\n",
       "      <td>0.144543</td>\n",
       "      <td>0.721879</td>\n",
       "    </tr>\n",
       "    <tr>\n",
       "      <th>4</th>\n",
       "      <td>0.122146</td>\n",
       "      <td>0.157838</td>\n",
       "      <td>0.637787</td>\n",
       "      <td>0.426467</td>\n",
       "      <td>0.441977</td>\n",
       "      <td>0.314976</td>\n",
       "      <td>0.433100</td>\n",
       "      <td>0.129086</td>\n",
       "      <td>0.410194</td>\n",
       "      <td>0.189152</td>\n",
       "      <td>...</td>\n",
       "      <td>0.245702</td>\n",
       "      <td>0.215008</td>\n",
       "      <td>0.299172</td>\n",
       "      <td>0.410187</td>\n",
       "      <td>0.147711</td>\n",
       "      <td>0.350381</td>\n",
       "      <td>0.096959</td>\n",
       "      <td>0.136298</td>\n",
       "      <td>0.149281</td>\n",
       "      <td>0.812053</td>\n",
       "    </tr>\n",
       "  </tbody>\n",
       "</table>\n",
       "<p>5 rows × 77 columns</p>\n",
       "</div>"
      ],
      "text/plain": [
       "   DYRK1A_N   ITSN1_N    BDNF_N     NR1_N    NR2A_N    pAKT_N   pBRAF_N  \\\n",
       "0  0.151122  0.212885  0.824638  0.612119  0.630482  0.327006  0.448666   \n",
       "1  0.155750  0.188226  0.776455  0.601070  0.585247  0.311887  0.429899   \n",
       "2  0.153459  0.205696  0.793572  0.558911  0.575910  0.306369  0.441381   \n",
       "3  0.125169  0.157688  0.637326  0.468152  0.480646  0.335530  0.444307   \n",
       "4  0.122146  0.157838  0.637787  0.426467  0.441977  0.314976  0.433100   \n",
       "\n",
       "   pCAMKII_N   pCREB_N    pELK_N  ...     SHH_N     BAD_N    BCL2_N     pS6_N  \\\n",
       "0   0.168257  0.617322  0.232553  ...  0.162941  0.177312  0.299172  0.426816   \n",
       "1   0.154925  0.590173  0.205362  ...  0.220010  0.146494  0.299172  0.429952   \n",
       "2   0.153485  0.607102  0.199194  ...  0.186816  0.155920  0.299172  0.448652   \n",
       "3   0.132074  0.486945  0.205135  ...  0.179047  0.229602  0.299172  0.392700   \n",
       "4   0.129086  0.410194  0.189152  ...  0.245702  0.215008  0.299172  0.410187   \n",
       "\n",
       "    pCFOS_N     SYP_N  H3AcK18_N    EGR1_N  H3MeK4_N    CaNA_N  \n",
       "0  0.133930  0.336299   0.087715  0.102890  0.084580  0.705738  \n",
       "1  0.110434  0.365208   0.080692  0.115874  0.093977  0.749771  \n",
       "2  0.121560  0.353621   0.080465  0.109050  0.082162  0.868229  \n",
       "3  0.151031  0.265619   0.126763  0.164241  0.144543  0.721879  \n",
       "4  0.147711  0.350381   0.096959  0.136298  0.149281  0.812053  \n",
       "\n",
       "[5 rows x 77 columns]"
      ]
     },
     "execution_count": 50,
     "metadata": {},
     "output_type": "execute_result"
    }
   ],
   "source": [
    "pd.DataFrame(Data, columns=Data_kk.columns).head()"
   ]
  },
  {
   "cell_type": "markdown",
   "metadata": {},
   "source": [
    "# Feature Selection and Ranking"
   ]
  },
  {
   "cell_type": "code",
   "execution_count": 51,
   "metadata": {},
   "outputs": [
    {
     "data": {
      "text/plain": [
       "array(['SOD1_N', 'pERK_N', 'pPKCG_N', 'CaNA_N', 'APP_N', 'DYRK1A_N',\n",
       "       'ARC_N', 'ITSN1_N', 'Ubiquitin_N', 'Tau_N'], dtype=object)"
      ]
     },
     "execution_count": 51,
     "metadata": {},
     "output_type": "execute_result"
    }
   ],
   "source": [
    "from sklearn.ensemble import RandomForestClassifier\n",
    "\n",
    "num_features = 10\n",
    "model_rfi = RandomForestClassifier(n_estimators=100)\n",
    "model_rfi.fit(Data, Target)\n",
    "fs_indices_rfi = np.argsort(model_rfi.feature_importances_)[::-1][0:num_features]\n",
    "\n",
    "best_features_rfi = Data_kk.columns[fs_indices_rfi].values\n",
    "best_features_rfi"
   ]
  },
  {
   "cell_type": "code",
   "execution_count": 52,
   "metadata": {},
   "outputs": [
    {
     "data": {
      "text/plain": [
       "array([0.06036074, 0.03890798, 0.0381205 , 0.03039464, 0.03025867,\n",
       "       0.02945437, 0.02868254, 0.0271752 , 0.02597139, 0.02539403])"
      ]
     },
     "execution_count": 52,
     "metadata": {},
     "output_type": "execute_result"
    }
   ],
   "source": [
    "feature_importances_rfi = model_rfi.feature_importances_[fs_indices_rfi]\n",
    "feature_importances_rfi"
   ]
  },
  {
   "cell_type": "markdown",
   "metadata": {},
   "source": [
    "# Train and Test Data Split"
   ]
  },
  {
   "cell_type": "code",
   "execution_count": 53,
   "metadata": {},
   "outputs": [
    {
     "name": "stdout",
     "output_type": "stream",
     "text": [
      "(1080, 77)\n",
      "(1080,)\n"
     ]
    }
   ],
   "source": [
    "Data_sample = Data\n",
    "target_sample = Target\n",
    "print(Data_sample.shape)\n",
    "print(target_sample.shape)"
   ]
  },
  {
   "cell_type": "code",
   "execution_count": 54,
   "metadata": {},
   "outputs": [
    {
     "name": "stdout",
     "output_type": "stream",
     "text": [
      "(756, 77)\n",
      "(324, 77)\n",
      "(756,)\n",
      "(324,)\n"
     ]
    }
   ],
   "source": [
    "from sklearn.model_selection import train_test_split\n",
    "\n",
    "Data_sample_train, Data_sample_test, \\\n",
    "target_sample_train, target_sample_test = train_test_split(Data_sample, target_sample, \n",
    "                                                    test_size = 0.3, \n",
    "                                                    stratify = target_sample)\n",
    "\n",
    "print(Data_sample_train.shape)\n",
    "print(Data_sample_test.shape)\n",
    "print(target_sample_train.shape)\n",
    "print(target_sample_test.shape)"
   ]
  },
  {
   "cell_type": "markdown",
   "metadata": {},
   "source": [
    "# Model Evaluation Strategy"
   ]
  },
  {
   "cell_type": "markdown",
   "metadata": {},
   "source": [
    " # K - Nearest Neighbours"
   ]
  },
  {
   "cell_type": "code",
   "execution_count": 55,
   "metadata": {},
   "outputs": [
    {
     "data": {
      "text/plain": [
       "array(['t-CS-m', 'c-SC-s', 't-CS-m', 't-SC-m', 'c-SC-s', 't-SC-s',\n",
       "       'c-CS-m', 'c-CS-m', 'c-SC-s', 't-CS-m', 'c-SC-m', 't-CS-m',\n",
       "       'c-CS-s', 'c-CS-m', 'c-SC-m', 't-SC-m', 't-SC-s', 't-CS-s',\n",
       "       't-SC-m', 't-CS-s', 't-CS-m', 't-CS-s', 'c-SC-s', 'c-CS-s',\n",
       "       't-SC-m', 'c-SC-m', 't-SC-s', 'c-SC-m', 'c-CS-m', 'c-CS-m',\n",
       "       'c-CS-s', 'c-SC-s', 'c-SC-m', 'c-SC-m', 'c-SC-m', 't-SC-s',\n",
       "       'c-SC-s', 'c-CS-s', 't-CS-s', 'c-SC-s', 'c-CS-m', 'c-SC-m',\n",
       "       't-CS-m', 't-CS-s', 'c-CS-m', 't-CS-m', 'c-SC-m', 'c-CS-m',\n",
       "       't-CS-m', 'c-CS-m', 't-SC-m', 'c-CS-m', 'c-CS-m', 'c-CS-m',\n",
       "       'c-CS-m', 't-SC-m', 't-SC-s', 'c-CS-m', 't-SC-m', 'c-SC-s',\n",
       "       'c-SC-m', 'c-SC-m', 't-SC-s', 't-SC-s', 'c-SC-s', 'c-SC-s',\n",
       "       't-CS-s', 'c-CS-m', 'c-SC-m', 'c-CS-m', 't-SC-s', 'c-CS-m',\n",
       "       'c-SC-m', 'c-CS-m', 't-CS-m', 't-SC-m', 't-SC-m', 't-CS-m',\n",
       "       't-SC-s', 'c-CS-s', 'c-SC-s', 't-SC-s', 't-SC-s', 'c-CS-m',\n",
       "       't-CS-m', 'c-CS-s', 't-SC-m', 't-SC-m', 'c-SC-m', 't-SC-m',\n",
       "       'c-CS-s', 't-CS-m', 't-CS-s', 'c-CS-m', 'c-CS-s', 't-CS-s',\n",
       "       't-CS-m', 't-CS-m', 'c-CS-m', 'c-CS-s', 'c-CS-s', 't-CS-m',\n",
       "       't-SC-s', 't-CS-s', 'c-SC-m', 't-SC-m', 'c-SC-m', 't-SC-s',\n",
       "       'c-SC-s', 't-SC-m', 't-CS-m', 'c-SC-m', 'c-SC-m', 'c-SC-s',\n",
       "       'c-CS-m', 't-CS-m', 't-SC-s', 't-CS-m', 't-CS-m', 't-SC-m',\n",
       "       'c-CS-s', 't-SC-s', 'c-SC-s', 't-SC-m', 't-SC-m', 't-CS-m',\n",
       "       'c-CS-s', 'c-SC-s', 't-SC-s', 'c-SC-s', 't-SC-m', 't-SC-s',\n",
       "       'c-SC-m', 't-SC-s', 'c-SC-s', 't-CS-m', 't-CS-s', 'c-CS-m',\n",
       "       't-CS-m', 't-SC-m', 'c-CS-s', 'c-CS-m', 'c-SC-s', 't-SC-s',\n",
       "       't-SC-m', 't-CS-m', 'c-SC-s', 'c-CS-m', 't-CS-s', 't-SC-s',\n",
       "       'c-SC-s', 'c-SC-s', 't-SC-s', 'c-CS-m', 'c-SC-m', 'c-SC-m',\n",
       "       'c-SC-m', 'c-CS-m', 'c-SC-m', 't-SC-s', 'c-CS-m', 't-SC-m',\n",
       "       'c-CS-m', 't-SC-m', 'c-CS-m', 'c-SC-m', 't-CS-m', 't-SC-s',\n",
       "       't-CS-m', 't-SC-s', 't-CS-s', 't-SC-s', 't-SC-s', 't-CS-m',\n",
       "       'c-SC-m', 'c-CS-m', 'c-SC-m', 't-CS-m', 'c-CS-m', 't-CS-m',\n",
       "       't-SC-s', 'c-SC-m', 't-CS-s', 'c-CS-m', 'c-CS-s', 't-SC-m',\n",
       "       't-SC-s', 'c-SC-m', 'c-SC-m', 'c-CS-m', 'c-CS-s', 'c-SC-m',\n",
       "       'c-SC-s', 'c-SC-m', 't-SC-m', 'c-CS-s', 't-CS-m', 't-CS-m',\n",
       "       'c-SC-m', 'c-SC-m', 'c-CS-m', 'c-SC-s', 't-SC-s', 't-SC-s',\n",
       "       't-SC-s', 'c-CS-s', 'c-CS-m', 'c-CS-m', 't-SC-s', 'c-SC-m',\n",
       "       't-CS-m', 'c-CS-s', 't-CS-m', 't-CS-m', 't-CS-s', 'c-SC-s',\n",
       "       'c-CS-m', 'c-CS-m', 't-CS-s', 'c-CS-s', 't-CS-s', 'c-CS-m',\n",
       "       'c-CS-m', 't-SC-m', 't-SC-m', 'c-CS-m', 't-SC-s', 'c-SC-m',\n",
       "       'c-SC-m', 'c-SC-s', 'c-SC-s', 'c-SC-s', 't-CS-m', 'c-SC-s',\n",
       "       't-CS-s', 't-SC-s', 'c-CS-m', 't-SC-s', 'c-SC-s', 'c-SC-s',\n",
       "       't-CS-m', 'c-CS-m', 'c-SC-s', 'c-CS-s', 'c-CS-m', 'c-SC-m',\n",
       "       't-SC-m', 't-SC-m', 'c-SC-s', 't-SC-s', 't-SC-s', 't-CS-m',\n",
       "       't-CS-m', 'c-SC-s', 't-SC-s', 't-SC-s', 'c-CS-m', 'c-CS-m',\n",
       "       'c-SC-m', 'c-CS-s', 'c-SC-s', 't-CS-s', 'c-SC-s', 'c-CS-s',\n",
       "       't-CS-m', 'c-SC-m', 'c-SC-m', 'c-SC-s', 't-CS-m', 'c-CS-m',\n",
       "       'c-SC-m', 'c-SC-m', 't-CS-s', 't-CS-m', 't-SC-m', 't-CS-s',\n",
       "       't-SC-m', 'c-CS-m', 'c-CS-m', 'c-SC-s', 'c-SC-m', 't-CS-m',\n",
       "       'c-SC-s', 't-CS-m', 'c-CS-m', 'c-SC-m', 'c-CS-m', 't-SC-m',\n",
       "       'c-SC-m', 't-SC-m', 'c-CS-s', 't-CS-s', 'c-SC-m', 't-SC-m',\n",
       "       't-CS-m', 'c-CS-m', 't-CS-m', 'c-CS-m', 't-SC-s', 't-CS-s',\n",
       "       't-CS-m', 't-CS-s', 't-CS-m', 'c-CS-s', 'c-SC-s', 'c-CS-m',\n",
       "       'c-SC-m', 't-CS-s', 'c-CS-m', 'c-SC-s', 't-CS-m', 't-SC-m',\n",
       "       't-SC-m', 't-CS-m', 'c-CS-m', 't-SC-s', 't-SC-s', 'c-CS-s',\n",
       "       'c-CS-m', 'c-SC-m', 't-CS-m', 't-SC-m', 'c-CS-s', 'c-SC-s'],\n",
       "      dtype=object)"
      ]
     },
     "execution_count": 55,
     "metadata": {},
     "output_type": "execute_result"
    }
   ],
   "source": [
    "from sklearn.neighbors import KNeighborsClassifier\n",
    "clf = KNeighborsClassifier(20)\n",
    "fit = clf.fit(Data_sample_train, target_sample_train)\n",
    "y_prediction = fit.predict(Data_sample_test)\n",
    "y_prediction"
   ]
  },
  {
   "cell_type": "code",
   "execution_count": 56,
   "metadata": {},
   "outputs": [
    {
     "data": {
      "text/plain": [
       "(324,)"
      ]
     },
     "execution_count": 56,
     "metadata": {},
     "output_type": "execute_result"
    }
   ],
   "source": [
    "y_prediction.shape"
   ]
  },
  {
   "cell_type": "code",
   "execution_count": 57,
   "metadata": {},
   "outputs": [
    {
     "name": "stdout",
     "output_type": "stream",
     "text": [
      "[[41  0  0  0  4  0  0  0]\n",
      " [ 6 26  0  0  4  4  0  0]\n",
      " [ 0  0 43  0  1  0  1  0]\n",
      " [ 0  0  2 39  0  0  0  0]\n",
      " [ 8  0  0  0 32  0  0  0]\n",
      " [ 3  0  0  0  8 20  0  0]\n",
      " [ 0  0  3  2  0  0 35  1]\n",
      " [ 0  0  0  0  0  0  0 41]]\n"
     ]
    }
   ],
   "source": [
    "from sklearn.metrics import confusion_matrix\n",
    "cm = confusion_matrix(target_sample_test, y_prediction)\n",
    "print(cm)"
   ]
  },
  {
   "cell_type": "code",
   "execution_count": 58,
   "metadata": {},
   "outputs": [
    {
     "name": "stdout",
     "output_type": "stream",
     "text": [
      "              precision    recall  f1-score   support\n",
      "\n",
      "      c-CS-m       0.71      0.91      0.80        45\n",
      "      c-CS-s       1.00      0.65      0.79        40\n",
      "      c-SC-m       0.90      0.96      0.92        45\n",
      "      c-SC-s       0.95      0.95      0.95        41\n",
      "      t-CS-m       0.65      0.80      0.72        40\n",
      "      t-CS-s       0.83      0.65      0.73        31\n",
      "      t-SC-m       0.97      0.85      0.91        41\n",
      "      t-SC-s       0.98      1.00      0.99        41\n",
      "\n",
      "    accuracy                           0.85       324\n",
      "   macro avg       0.87      0.85      0.85       324\n",
      "weighted avg       0.87      0.85      0.86       324\n",
      "\n"
     ]
    }
   ],
   "source": [
    "from sklearn.metrics import classification_report\n",
    "print(classification_report(target_sample_test, y_prediction))"
   ]
  },
  {
   "cell_type": "code",
   "execution_count": 59,
   "metadata": {},
   "outputs": [
    {
     "data": {
      "text/plain": [
       "array(['t-CS-m', 't-SC-m', 't-CS-m', 't-SC-m', 'c-SC-s', 't-SC-s',\n",
       "       'c-CS-m', 'c-CS-m', 'c-SC-s', 't-CS-s', 'c-SC-m', 't-CS-m',\n",
       "       'c-CS-s', 'c-CS-m', 'c-SC-m', 't-SC-m', 't-SC-s', 'c-CS-s',\n",
       "       'c-SC-m', 't-CS-s', 't-CS-m', 't-CS-s', 'c-SC-s', 'c-CS-s',\n",
       "       't-SC-m', 'c-SC-m', 't-SC-s', 'c-SC-m', 'c-CS-m', 'c-CS-s',\n",
       "       'c-CS-s', 'c-SC-s', 'c-SC-m', 'c-SC-s', 'c-SC-m', 't-SC-s',\n",
       "       'c-SC-s', 'c-CS-s', 't-CS-s', 'c-SC-s', 'c-CS-m', 'c-SC-m',\n",
       "       'c-CS-s', 't-CS-s', 't-CS-m', 't-CS-m', 'c-SC-m', 't-CS-s',\n",
       "       't-CS-m', 'c-CS-s', 't-SC-m', 'c-CS-m', 'c-CS-m', 'c-CS-m',\n",
       "       'c-CS-m', 't-SC-m', 't-SC-s', 'c-CS-m', 't-SC-m', 'c-SC-s',\n",
       "       'c-SC-m', 'c-SC-m', 't-SC-s', 't-SC-s', 'c-SC-s', 't-SC-m',\n",
       "       't-CS-s', 'c-CS-s', 'c-SC-m', 't-CS-m', 't-SC-s', 'c-CS-m',\n",
       "       'c-SC-m', 'c-CS-s', 't-CS-m', 't-SC-m', 't-SC-m', 't-CS-m',\n",
       "       't-SC-s', 'c-CS-s', 'c-SC-s', 't-SC-s', 't-SC-s', 'c-CS-m',\n",
       "       'c-CS-m', 'c-CS-s', 't-SC-m', 't-SC-m', 'c-SC-s', 't-SC-m',\n",
       "       'c-CS-s', 't-CS-m', 't-CS-s', 't-CS-m', 'c-CS-s', 't-CS-s',\n",
       "       't-CS-m', 'c-SC-m', 'c-CS-m', 'c-CS-s', 'c-CS-s', 't-CS-s',\n",
       "       't-SC-s', 't-CS-s', 'c-SC-m', 't-SC-m', 't-SC-m', 't-SC-s',\n",
       "       'c-SC-s', 't-SC-m', 't-CS-m', 'c-SC-m', 'c-SC-m', 'c-SC-s',\n",
       "       'c-CS-s', 'c-CS-s', 't-SC-s', 't-CS-m', 't-CS-s', 't-SC-m',\n",
       "       'c-CS-s', 't-SC-s', 'c-SC-s', 't-SC-m', 't-SC-m', 't-CS-m',\n",
       "       'c-CS-s', 'c-SC-s', 't-SC-m', 'c-SC-s', 't-SC-m', 't-SC-s',\n",
       "       'c-SC-m', 't-SC-s', 'c-SC-s', 't-CS-m', 'c-CS-s', 'c-CS-m',\n",
       "       'c-CS-s', 't-SC-m', 'c-CS-s', 'c-CS-m', 'c-SC-s', 't-SC-s',\n",
       "       't-SC-m', 't-CS-m', 'c-SC-s', 'c-CS-m', 't-CS-s', 't-SC-s',\n",
       "       'c-SC-s', 'c-SC-s', 't-SC-s', 'c-CS-m', 'c-SC-m', 'c-SC-m',\n",
       "       't-SC-m', 'c-CS-m', 'c-SC-m', 't-SC-s', 'c-CS-m', 't-SC-m',\n",
       "       'c-CS-m', 't-SC-m', 't-CS-m', 'c-SC-m', 't-CS-m', 't-SC-s',\n",
       "       't-CS-s', 't-SC-s', 'c-CS-s', 't-SC-s', 't-SC-s', 'c-CS-m',\n",
       "       'c-SC-s', 'c-CS-m', 'c-SC-m', 't-CS-s', 't-CS-m', 't-CS-m',\n",
       "       't-SC-s', 'c-SC-m', 't-CS-s', 'c-CS-m', 'c-CS-s', 't-SC-m',\n",
       "       't-SC-s', 'c-SC-m', 'c-SC-m', 'c-CS-m', 'c-CS-s', 'c-SC-m',\n",
       "       'c-SC-s', 'c-SC-m', 't-SC-m', 'c-CS-s', 't-CS-m', 't-CS-m',\n",
       "       't-SC-m', 'c-SC-m', 'c-CS-m', 'c-SC-s', 't-SC-s', 't-SC-s',\n",
       "       't-SC-s', 'c-CS-s', 'c-CS-m', 't-CS-s', 't-SC-s', 'c-SC-m',\n",
       "       't-CS-s', 'c-CS-s', 't-CS-m', 't-CS-m', 't-CS-s', 'c-SC-s',\n",
       "       'c-CS-m', 'c-CS-m', 't-CS-s', 'c-CS-s', 't-CS-s', 'c-CS-m',\n",
       "       'c-CS-m', 't-SC-m', 't-SC-m', 't-CS-m', 't-SC-s', 'c-SC-m',\n",
       "       'c-SC-m', 'c-SC-s', 'c-SC-s', 'c-SC-s', 't-CS-m', 'c-SC-s',\n",
       "       't-CS-s', 't-SC-s', 't-CS-s', 't-SC-s', 'c-SC-s', 'c-SC-s',\n",
       "       'c-CS-m', 'c-CS-m', 'c-SC-s', 'c-CS-s', 'c-CS-m', 'c-SC-m',\n",
       "       't-SC-m', 't-SC-m', 'c-SC-s', 't-SC-s', 't-SC-s', 't-CS-m',\n",
       "       't-CS-m', 'c-SC-s', 't-SC-s', 't-SC-s', 'c-CS-m', 'c-CS-m',\n",
       "       'c-SC-m', 'c-CS-s', 'c-SC-s', 't-CS-s', 'c-SC-s', 'c-CS-s',\n",
       "       'c-CS-m', 'c-SC-m', 'c-SC-m', 'c-SC-s', 't-CS-m', 'c-CS-m',\n",
       "       'c-SC-m', 'c-SC-m', 't-CS-s', 't-CS-m', 't-SC-m', 't-CS-s',\n",
       "       't-SC-m', 'c-CS-m', 'c-CS-m', 'c-SC-s', 'c-SC-m', 't-CS-m',\n",
       "       'c-SC-s', 't-CS-m', 'c-CS-m', 'c-SC-m', 'c-CS-m', 't-SC-m',\n",
       "       'c-SC-m', 't-SC-m', 'c-CS-s', 't-CS-s', 'c-SC-m', 't-SC-m',\n",
       "       't-CS-m', 'c-CS-m', 't-CS-s', 'c-CS-m', 't-SC-s', 't-CS-s',\n",
       "       't-CS-m', 't-CS-s', 't-CS-m', 'c-CS-s', 'c-SC-s', 'c-CS-s',\n",
       "       'c-SC-m', 't-CS-s', 'c-CS-m', 'c-SC-s', 't-CS-s', 't-SC-m',\n",
       "       't-SC-m', 't-CS-m', 'c-CS-m', 't-SC-s', 't-SC-s', 'c-CS-s',\n",
       "       'c-CS-m', 'c-SC-m', 'c-CS-s', 't-SC-m', 'c-CS-s', 'c-SC-s'],\n",
       "      dtype=object)"
      ]
     },
     "execution_count": 59,
     "metadata": {},
     "output_type": "execute_result"
    }
   ],
   "source": [
    "from sklearn.neighbors import KNeighborsClassifier\n",
    "clf = KNeighborsClassifier(5, weights = 'distance')\n",
    "fit = clf.fit(Data_sample_train, target_sample_train)\n",
    "y_prediction = fit.predict(Data_sample_test)\n",
    "y_prediction"
   ]
  },
  {
   "cell_type": "code",
   "execution_count": 60,
   "metadata": {},
   "outputs": [
    {
     "name": "stdout",
     "output_type": "stream",
     "text": [
      "[[45  0  0  0  0  0  0  0]\n",
      " [ 0 39  0  0  0  1  0  0]\n",
      " [ 0  0 44  1  0  0  0  0]\n",
      " [ 0  0  0 41  0  0  0  0]\n",
      " [ 2  0  0  0 38  0  0  0]\n",
      " [ 0  0  0  0  0 31  0  0]\n",
      " [ 0  0  0  0  0  0 41  0]\n",
      " [ 0  0  0  0  0  0  0 41]]\n"
     ]
    }
   ],
   "source": [
    "from sklearn.metrics import confusion_matrix\n",
    "cm = confusion_matrix(target_sample_test, y_prediction)\n",
    "print(cm)"
   ]
  },
  {
   "cell_type": "code",
   "execution_count": 61,
   "metadata": {},
   "outputs": [
    {
     "name": "stdout",
     "output_type": "stream",
     "text": [
      "              precision    recall  f1-score   support\n",
      "\n",
      "      c-CS-m       0.96      1.00      0.98        45\n",
      "      c-CS-s       1.00      0.97      0.99        40\n",
      "      c-SC-m       1.00      0.98      0.99        45\n",
      "      c-SC-s       0.98      1.00      0.99        41\n",
      "      t-CS-m       1.00      0.95      0.97        40\n",
      "      t-CS-s       0.97      1.00      0.98        31\n",
      "      t-SC-m       1.00      1.00      1.00        41\n",
      "      t-SC-s       1.00      1.00      1.00        41\n",
      "\n",
      "    accuracy                           0.99       324\n",
      "   macro avg       0.99      0.99      0.99       324\n",
      "weighted avg       0.99      0.99      0.99       324\n",
      "\n"
     ]
    }
   ],
   "source": [
    "from sklearn.metrics import classification_report\n",
    "print(classification_report(target_sample_test, y_prediction))"
   ]
  },
  {
   "cell_type": "code",
   "execution_count": 62,
   "metadata": {},
   "outputs": [],
   "source": [
    "from sklearn.neighbors import KNeighborsClassifier\n",
    "clf = KNeighborsClassifier(5, weights = 'distance' , p = 1)\n",
    "fit = clf.fit(Data_sample_train, target_sample_train)\n",
    "y_prediction = fit.predict(Data_sample_test)"
   ]
  },
  {
   "cell_type": "code",
   "execution_count": 63,
   "metadata": {},
   "outputs": [
    {
     "name": "stdout",
     "output_type": "stream",
     "text": [
      "              precision    recall  f1-score   support\n",
      "\n",
      "      c-CS-m       0.96      1.00      0.98        45\n",
      "      c-CS-s       1.00      0.93      0.96        40\n",
      "      c-SC-m       1.00      1.00      1.00        45\n",
      "      c-SC-s       1.00      1.00      1.00        41\n",
      "      t-CS-m       1.00      0.95      0.97        40\n",
      "      t-CS-s       0.91      1.00      0.95        31\n",
      "      t-SC-m       1.00      1.00      1.00        41\n",
      "      t-SC-s       1.00      1.00      1.00        41\n",
      "\n",
      "    accuracy                           0.98       324\n",
      "   macro avg       0.98      0.98      0.98       324\n",
      "weighted avg       0.99      0.98      0.98       324\n",
      "\n"
     ]
    }
   ],
   "source": [
    "cm = confusion_matrix(target_sample_test, y_prediction)\n",
    "print(classification_report(target_sample_test, y_prediction))"
   ]
  },
  {
   "cell_type": "code",
   "execution_count": 64,
   "metadata": {},
   "outputs": [
    {
     "data": {
      "text/plain": [
       "array(['t-CS-m', 'c-SC-s', 't-CS-s', 't-SC-m', 'c-SC-s', 't-SC-s',\n",
       "       'c-CS-m', 'c-CS-m', 'c-SC-s', 't-CS-m', 'c-SC-m', 't-CS-m',\n",
       "       'c-CS-s', 'c-CS-m', 'c-SC-m', 't-SC-m', 'c-SC-m', 't-CS-m',\n",
       "       'c-SC-m', 'c-CS-s', 't-CS-m', 't-CS-s', 'c-SC-s', 'c-CS-s',\n",
       "       't-SC-m', 'c-SC-m', 't-SC-s', 't-CS-s', 'c-CS-m', 't-CS-s',\n",
       "       'c-CS-s', 'c-SC-s', 'c-SC-m', 'c-SC-s', 'c-SC-m', 't-SC-s',\n",
       "       'c-SC-s', 'c-CS-s', 't-CS-s', 'c-SC-s', 'c-CS-m', 'c-SC-m',\n",
       "       't-CS-s', 't-CS-s', 't-CS-m', 't-CS-m', 'c-SC-m', 't-CS-s',\n",
       "       't-CS-m', 'c-CS-s', 't-SC-m', 'c-CS-m', 'c-CS-m', 'c-CS-m',\n",
       "       'c-CS-m', 'c-SC-m', 't-SC-s', 'c-CS-m', 't-SC-m', 'c-SC-s',\n",
       "       'c-SC-m', 'c-SC-m', 't-SC-s', 't-SC-s', 'c-SC-s', 't-SC-m',\n",
       "       'c-CS-s', 't-CS-s', 'c-SC-m', 'c-CS-s', 'c-SC-s', 'c-CS-m',\n",
       "       'c-SC-m', 'c-SC-m', 't-CS-m', 't-SC-m', 't-SC-m', 't-CS-m',\n",
       "       't-SC-s', 'c-CS-s', 'c-SC-m', 't-SC-s', 't-SC-s', 'c-CS-m',\n",
       "       'c-CS-s', 'c-CS-s', 't-SC-m', 'c-SC-m', 'c-SC-s', 't-SC-m',\n",
       "       'c-CS-s', 't-CS-s', 'c-CS-s', 'c-CS-s', 'c-CS-s', 't-CS-s',\n",
       "       't-CS-m', 't-SC-s', 'c-CS-m', 'c-CS-s', 'c-CS-s', 't-CS-s',\n",
       "       't-SC-s', 't-CS-s', 'c-SC-m', 't-SC-m', 't-SC-m', 't-SC-s',\n",
       "       't-SC-s', 't-SC-m', 't-CS-m', 'c-SC-m', 'c-SC-m', 'c-SC-s',\n",
       "       'c-CS-s', 'c-CS-s', 't-SC-s', 't-CS-m', 't-CS-s', 't-SC-m',\n",
       "       'c-CS-s', 't-SC-s', 't-SC-m', 't-SC-m', 't-SC-m', 'c-CS-m',\n",
       "       'c-CS-s', 'c-SC-s', 't-SC-m', 'c-SC-s', 't-SC-m', 't-SC-s',\n",
       "       'c-SC-m', 't-SC-s', 'c-SC-s', 'c-CS-m', 'c-CS-s', 't-CS-m',\n",
       "       't-CS-m', 't-SC-m', 'c-CS-s', 'c-CS-m', 'c-SC-s', 't-SC-s',\n",
       "       't-SC-m', 't-CS-s', 'c-SC-m', 'c-CS-m', 'c-CS-s', 't-SC-s',\n",
       "       'c-SC-m', 'c-SC-s', 'c-SC-s', 'c-CS-m', 'c-SC-m', 'c-SC-m',\n",
       "       't-SC-m', 'c-CS-m', 'c-SC-s', 't-SC-s', 'c-CS-m', 't-SC-m',\n",
       "       'c-CS-s', 't-SC-m', 'c-CS-s', 'c-SC-m', 't-CS-m', 't-SC-s',\n",
       "       't-CS-m', 't-SC-s', 't-CS-m', 't-SC-s', 't-SC-s', 'c-CS-s',\n",
       "       'c-SC-s', 'c-CS-m', 'c-SC-m', 't-CS-s', 'c-CS-s', 'c-CS-m',\n",
       "       't-SC-s', 'c-SC-s', 't-CS-m', 'c-CS-m', 'c-CS-s', 't-SC-m',\n",
       "       't-SC-s', 'c-SC-m', 'c-SC-m', 'c-CS-m', 'c-CS-s', 'c-SC-m',\n",
       "       'c-SC-s', 'c-SC-m', 't-SC-m', 'c-CS-s', 't-CS-m', 't-CS-s',\n",
       "       'c-SC-m', 'c-SC-m', 't-CS-m', 'c-SC-s', 't-SC-s', 't-SC-s',\n",
       "       't-SC-s', 'c-CS-s', 'c-CS-m', 't-CS-s', 't-SC-s', 'c-SC-m',\n",
       "       't-CS-m', 'c-CS-s', 't-CS-m', 't-CS-m', 't-CS-s', 'c-SC-s',\n",
       "       't-CS-m', 'c-CS-m', 't-CS-s', 'c-CS-s', 't-CS-s', 'c-CS-s',\n",
       "       'c-CS-m', 't-SC-m', 't-SC-m', 't-CS-m', 't-SC-s', 'c-SC-m',\n",
       "       'c-SC-m', 'c-SC-s', 'c-SC-s', 'c-SC-s', 't-CS-m', 'c-SC-s',\n",
       "       't-CS-s', 't-SC-s', 'c-CS-m', 't-SC-s', 'c-SC-s', 'c-SC-s',\n",
       "       'c-CS-m', 'c-CS-m', 'c-SC-s', 'c-CS-s', 'c-CS-m', 'c-SC-m',\n",
       "       'c-SC-m', 't-SC-m', 'c-SC-s', 't-SC-s', 't-SC-s', 'c-CS-m',\n",
       "       't-CS-m', 'c-SC-s', 't-SC-s', 'c-CS-s', 'c-CS-m', 'c-CS-m',\n",
       "       'c-SC-m', 'c-CS-s', 'c-SC-s', 't-CS-s', 'c-SC-s', 'c-CS-s',\n",
       "       'c-CS-m', 'c-SC-m', 'c-SC-m', 'c-SC-s', 't-CS-m', 'c-CS-m',\n",
       "       'c-SC-m', 'c-SC-m', 't-CS-s', 't-CS-m', 't-SC-m', 'c-CS-m',\n",
       "       't-SC-m', 'c-CS-m', 't-CS-m', 'c-SC-s', 'c-SC-m', 't-CS-m',\n",
       "       'c-SC-s', 't-CS-m', 't-CS-m', 'c-SC-m', 'c-CS-s', 't-SC-m',\n",
       "       'c-SC-m', 't-SC-m', 'c-CS-s', 't-CS-s', 'c-SC-s', 'c-SC-s',\n",
       "       't-CS-m', 't-CS-s', 't-CS-s', 'c-CS-m', 't-SC-s', 't-CS-s',\n",
       "       't-CS-m', 't-CS-s', 't-CS-s', 'c-CS-s', 'c-SC-s', 'c-CS-s',\n",
       "       'c-SC-m', 't-CS-s', 'c-CS-m', 'c-SC-s', 't-CS-s', 't-SC-m',\n",
       "       't-SC-m', 't-CS-m', 'c-CS-m', 't-SC-s', 't-SC-s', 'c-CS-s',\n",
       "       'c-CS-m', 'c-SC-m', 'c-CS-s', 't-SC-m', 'c-CS-s', 'c-SC-s'],\n",
       "      dtype=object)"
      ]
     },
     "execution_count": 64,
     "metadata": {},
     "output_type": "execute_result"
    }
   ],
   "source": [
    "from sklearn.tree import DecisionTreeClassifier\n",
    "clf = DecisionTreeClassifier()\n",
    "fit = clf.fit(Data_sample_train, target_sample_train)\n",
    "y_prediction = fit.predict(Data_sample_test)\n",
    "y_prediction"
   ]
  },
  {
   "cell_type": "code",
   "execution_count": 65,
   "metadata": {},
   "outputs": [
    {
     "data": {
      "text/plain": [
       "(324,)"
      ]
     },
     "execution_count": 65,
     "metadata": {},
     "output_type": "execute_result"
    }
   ],
   "source": [
    "y_prediction.shape"
   ]
  },
  {
   "cell_type": "code",
   "execution_count": 66,
   "metadata": {},
   "outputs": [
    {
     "data": {
      "text/plain": [
       "array([[36,  5,  0,  0,  3,  1,  0,  0],\n",
       "       [ 0, 33,  1,  0,  3,  3,  0,  0],\n",
       "       [ 0,  0, 39,  4,  0,  1,  0,  1],\n",
       "       [ 0,  0,  3, 36,  0,  0,  1,  1],\n",
       "       [ 4,  4,  0,  0, 27,  5,  0,  0],\n",
       "       [ 2,  3,  0,  0,  4, 22,  0,  0],\n",
       "       [ 0,  0,  4,  2,  0,  0, 35,  0],\n",
       "       [ 0,  1,  1,  2,  0,  0,  0, 37]], dtype=int64)"
      ]
     },
     "execution_count": 66,
     "metadata": {},
     "output_type": "execute_result"
    }
   ],
   "source": [
    "from sklearn.metrics import confusion_matrix\n",
    "cm = confusion_matrix(target_sample_test, y_prediction)\n",
    "cm"
   ]
  },
  {
   "cell_type": "code",
   "execution_count": 67,
   "metadata": {},
   "outputs": [
    {
     "name": "stdout",
     "output_type": "stream",
     "text": [
      "              precision    recall  f1-score   support\n",
      "\n",
      "      c-CS-m       0.86      0.80      0.83        45\n",
      "      c-CS-s       0.72      0.82      0.77        40\n",
      "      c-SC-m       0.81      0.87      0.84        45\n",
      "      c-SC-s       0.82      0.88      0.85        41\n",
      "      t-CS-m       0.73      0.68      0.70        40\n",
      "      t-CS-s       0.69      0.71      0.70        31\n",
      "      t-SC-m       0.97      0.85      0.91        41\n",
      "      t-SC-s       0.95      0.90      0.92        41\n",
      "\n",
      "    accuracy                           0.82       324\n",
      "   macro avg       0.82      0.81      0.81       324\n",
      "weighted avg       0.82      0.82      0.82       324\n",
      "\n"
     ]
    }
   ],
   "source": [
    "print(classification_report(target_sample_test, y_prediction))"
   ]
  },
  {
   "cell_type": "code",
   "execution_count": null,
   "metadata": {},
   "outputs": [],
   "source": []
  }
 ],
 "metadata": {
  "kernelspec": {
   "display_name": "Python 3",
   "language": "python",
   "name": "python3"
  },
  "language_info": {
   "codemirror_mode": {
    "name": "ipython",
    "version": 3
   },
   "file_extension": ".py",
   "mimetype": "text/x-python",
   "name": "python",
   "nbconvert_exporter": "python",
   "pygments_lexer": "ipython3",
   "version": "3.7.6"
  }
 },
 "nbformat": 4,
 "nbformat_minor": 4
}
